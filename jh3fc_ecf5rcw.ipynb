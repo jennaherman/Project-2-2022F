{
 "cells": [
  {
   "cell_type": "markdown",
   "metadata": {},
   "source": [
    "# Project 2: Sequence Alignment and Phylogeny"
   ]
  },
  {
   "cell_type": "markdown",
   "metadata": {},
   "source": [
    "\n",
    "   <div class=\"alert alert-block alert-danger\">\n",
    "    <center>Due: <b>Wednesday, 21 September, 8:59pm</b>.</center> \n",
    "   </div>\n",
    "   \n",
    "   <div class=\"alert alert-block alert-warning\">\n",
    "   <center>\n",
    "       <b>Collaboration and Resource Policy</b>\n",
    "    </center>\n",
    "    For this assignment, you are encouraged to work with one other person. Your team must satisfy these constraints:\n",
    "    \n",
    "   1. You **did not work together on Project 1**.\n",
    "   2. You and your partner have a **total number of siblings that is divisible by two** (e.g., if you have one sibling, you need to find a partner with 1, 3, 5, or 7 siblings. If anyone has more than 7 siblings, they can partner with anyone!)\n",
    "    \n",
    "We expect most students will have the best learning experience on this assignment by working with a partner, but if you prefer to work alone it is permissible to do this assignment on your own.\n",
    "    \n",
    "You are encouraged to discuss these problems with anyone you want, including other students in the class. If you do discuss the specific questions in the assignment with anyone other than your assignment partner and the course staff, though, you should list them in the _External resources used_ section below.\n",
    "    \n",
    "You are welcome to use any resources you want for this assignment, other than ones that would defeat the purpose of the assignment. This means you should not look at answers or code from any other students in the class (other than your collaboration with your partner) or from previous offerings of this course, and if you find code that implements the problem you are being asked to do for the assignment, you should not use that code. \n",
    "\n",
    "You should document all external resource you use that are not part of the course materials in the _External resources used_ section below.\n",
    "    </div>"
   ]
  },
  {
   "cell_type": "markdown",
   "metadata": {},
   "source": [
    "**Team submitting this assignment:**  \n",
    "<div class=\"alert alert-success\">\n",
    "    <b><em>list each member of your team here, including both your name and UVA computing id</em></b>\n",
    "</div>\n",
    "Jenna Herman jh3fc, Emma Forrestal ecf5rcw\n",
    "\n",
    "**External resources used:** \n",
    "<div class=\"alert alert-success\">\n",
    "<em>It is not necessary to list the course materials, but if you used any other resources, including discussing problems with students not on your team, list them here.</em>\n",
    "</div>\n",
    "Discussed with Sarah Murphy"
   ]
  },
  {
   "cell_type": "markdown",
   "metadata": {},
   "source": [
    " <div class=\"alert alert-block alert-warning\">\n",
    "    \n",
    "<b>Submission</b>: Please submit the code you wrote to generate your answers for all parts using this form: https://forms.gle/gv144kv3KRo67uUX7. Your answers should be in the Jupyter Notebook, along with your code. Before submission, you should make a copy of your notebook file with the name uvaid1\\_uvaid2.ipynb (where uvaidn is each teammates UVA id) so the submitted file identifies you. You and your partner should submit a single file once together. Submission is due 8:59 pm on Wednesday, 21 September."
   ]
  },
  {
   "cell_type": "markdown",
   "metadata": {},
   "source": [
    "## Getting Started"
   ]
  },
  {
   "cell_type": "markdown",
   "metadata": {},
   "source": [
    "Install basic required packages, should be run only once. You may need to restart the jupyter python kernel (under the Kernel menu) after this. (You can execute this directly in the notebook but running the command below.)"
   ]
  },
  {
   "cell_type": "code",
   "execution_count": 752,
   "metadata": {},
   "outputs": [
    {
     "name": "stdout",
     "output_type": "stream",
     "text": [
      "Collecting git+https://github.com/iamgroot42/blosum.git (from -r requirements.txt (line 1))\n",
      "  Cloning https://github.com/iamgroot42/blosum.git to /private/var/folders/wd/hcpwc24x7354wrbwfblgvjgm0000gn/T/pip-req-build-k9v7w62g\n",
      "  Running command git clone --filter=blob:none --quiet https://github.com/iamgroot42/blosum.git /private/var/folders/wd/hcpwc24x7354wrbwfblgvjgm0000gn/T/pip-req-build-k9v7w62g\n",
      "  Resolved https://github.com/iamgroot42/blosum.git to commit 433ed2f1b55fa010ad1b4b2a84158c1f38ddeaf6\n",
      "  Installing build dependencies ... \u001b[?25ldone\n",
      "\u001b[?25h  Getting requirements to build wheel ... \u001b[?25ldone\n",
      "\u001b[?25h  Preparing metadata (pyproject.toml) ... \u001b[?25ldone\n",
      "\u001b[?25hRequirement already satisfied: biopython in /Users/jennaherman/anaconda3/lib/python3.7/site-packages (from -r requirements.txt (line 2)) (1.79)\n",
      "Requirement already satisfied: tqdm in /Users/jennaherman/anaconda3/lib/python3.7/site-packages (from -r requirements.txt (line 3)) (4.32.1)\n",
      "Requirement already satisfied: networkx in /Users/jennaherman/anaconda3/lib/python3.7/site-packages (from -r requirements.txt (line 4)) (2.3)\n",
      "Requirement already satisfied: pokemons in /Users/jennaherman/anaconda3/lib/python3.7/site-packages (from -r requirements.txt (line 5)) (1.0.3)\n",
      "Requirement already satisfied: numpy in /Users/jennaherman/anaconda3/lib/python3.7/site-packages (from biopython->-r requirements.txt (line 2)) (1.21.6)\n",
      "Requirement already satisfied: decorator>=4.3.0 in /Users/jennaherman/anaconda3/lib/python3.7/site-packages (from networkx->-r requirements.txt (line 4)) (4.4.0)\n",
      "\n",
      "\u001b[1m[\u001b[0m\u001b[34;49mnotice\u001b[0m\u001b[1;39;49m]\u001b[0m\u001b[39;49m A new release of pip available: \u001b[0m\u001b[31;49m22.1.2\u001b[0m\u001b[39;49m -> \u001b[0m\u001b[32;49m22.2.2\u001b[0m\n",
      "\u001b[1m[\u001b[0m\u001b[34;49mnotice\u001b[0m\u001b[1;39;49m]\u001b[0m\u001b[39;49m To update, run: \u001b[0m\u001b[32;49mpip3.7 install --upgrade pip\u001b[0m\n",
      "Note: you may need to restart the kernel to use updated packages.\n"
     ]
    }
   ],
   "source": [
    "%pip install -r requirements.txt"
   ]
  },
  {
   "cell_type": "code",
   "execution_count": 753,
   "metadata": {},
   "outputs": [],
   "source": [
    "import numpy as np\n",
    "import blosum as bl\n",
    "import networkx as nx\n",
    "import matplotlib.pyplot as plt\n",
    "import utils\n",
    "from itertools import chain"
   ]
  },
  {
   "cell_type": "markdown",
   "metadata": {},
   "source": [
    "## Part 1: Global Sequence Alignment"
   ]
  },
  {
   "cell_type": "markdown",
   "metadata": {},
   "source": [
    "Below we provide the sequence alignment code from [Class 6](https://computingbiology.github.io/class6/). You are welcome to use and modify this code however you want in your solution, but should answer the questions below based on this provided code."
   ]
  },
  {
   "cell_type": "code",
   "execution_count": 754,
   "metadata": {},
   "outputs": [],
   "source": [
    "def simpleMatch(a, b):\n",
    "    return 1 if a == b else -1\n",
    "\n",
    "def distanceMatch(a, b):\n",
    "    return 0 if a == b else -1\n",
    "\n",
    "def linearGap(n):\n",
    "    return -1 * n\n",
    "\n",
    "def alignmentScore(s1, s2, gapPenalty, match):\n",
    "    if not s1 or not s2:\n",
    "        return gapPenalty(len(s1)) + gapPenalty(len(s2))\n",
    "    else:\n",
    "        return max(gapPenalty(1) + alignmentScore(s1, s2[1:], gapPenalty, match), \n",
    "                   gapPenalty(1) + alignmentScore(s1[1:], s2, gapPenalty, match),\n",
    "                   match(s1[0], s2[0]) + alignmentScore(s1[1:], s2[1:], gapPenalty, match)) "
   ]
  },
  {
   "cell_type": "code",
   "execution_count": 755,
   "metadata": {},
   "outputs": [],
   "source": [
    "def alignmentScoreDP(s1, s2, gapPenalty, match):\n",
    "    m = np.zeros((len(s1) + 1, len(s2) + 1))\n",
    "    m[0, 0] = 0\n",
    "    for i in range(1, len(s1) + 1):\n",
    "        m[i, 0] = gapPenalty(i)\n",
    "    for j in range(1, len(s2) + 1):\n",
    "        m[0, j] = gapPenalty(j)\n",
    "    for i in range(1, len(s1) + 1):\n",
    "        for j in range(1, len(s2) + 1):\n",
    "            m[i, j] = max(gapPenalty(1) + m[i, j - 1],  \n",
    "                          gapPenalty(1) + m[i - 1, j],    \n",
    "                          match(s1[i - 1], s2[j - 1]) + m[i - 1, j - 1]) \n",
    "    return m\n",
    "    \n",
    "def readAlignment(s1, s2, m, gapPenalty, match):\n",
    "    i = len(s1)\n",
    "    j = len(s2)\n",
    "    s1a = \"\"\n",
    "    s2a = \"\" \n",
    "    score = 0\n",
    "    while i > 0 or j > 0:\n",
    "        if i > 0 and j > 0 and m[i, j] == m[i - 1, j - 1] + match(s1[i - 1], s2[j - 1]):\n",
    "            i = i - 1\n",
    "            j = j - 1\n",
    "            score += match(s1[i], s2[j])\n",
    "            s1a = s1[i] + s1a\n",
    "            if s1[i] == s2[j]:\n",
    "                s2a = s2[j] + s2a\n",
    "            else:\n",
    "                s2a = s2[j].lower() + s2a\n",
    "        elif i > 0 and m[i, j] == m[i - 1, j] + gapPenalty(1):\n",
    "            i = i - 1\n",
    "            score += gapPenalty(1)\n",
    "            s1a = s1[i] + s1a\n",
    "            s2a = '-' + s2a\n",
    "        elif j > 0 and m[i, j] == m[i, j - 1] + gapPenalty(1):\n",
    "            j = j - 1\n",
    "            score += gapPenalty(1)\n",
    "            s1a = '-' + s1a\n",
    "            s2a = s2[j] + s2a\n",
    "        else:\n",
    "            assert False\n",
    "    return (s1a, s2a, score)\n",
    "\n",
    "def showAlignment(s1, s2, gapPenalty, match):\n",
    "    m = alignmentScoreDP(s1, s2, gapPenalty, match)\n",
    "    r = readAlignment(s1, s2, m, gapPenalty, match)\n",
    "    print (r[0] + \"\\n\" + r[1] + \"\\n\" + str(r[2]))\n",
    "    return (m, r)"
   ]
  },
  {
   "cell_type": "code",
   "execution_count": 756,
   "metadata": {},
   "outputs": [
    {
     "name": "stdout",
     "output_type": "stream",
     "text": [
      "G-ATT\n",
      "GCA-T\n",
      "1\n"
     ]
    }
   ],
   "source": [
    "# Example\n",
    "r = showAlignment(\"GATT\", \"GCAT\", linearGap, simpleMatch)"
   ]
  },
  {
   "cell_type": "markdown",
   "metadata": {},
   "source": [
    "Here's the version that supports affine gap penalties (from Class 6):"
   ]
  },
  {
   "cell_type": "code",
   "execution_count": 757,
   "metadata": {},
   "outputs": [],
   "source": [
    "def alignmentScoreDPG(s1, s2, gapPenalty, match):\n",
    "    m = np.zeros((len(s1) + 1, len(s2) + 1))\n",
    "    m[0, 0] = 0\n",
    "    for i in range(1, len(s1) + 1):\n",
    "        m[i, 0] = gapPenalty(i)\n",
    "    for j in range(1, len(s2) + 1):\n",
    "        m[0, j] = gapPenalty(j)\n",
    "    for i in range(1, len(s1) + 1):\n",
    "        for j in range(1, len(s2) + 1):         \n",
    "            m[i, j] = max(chain((gapPenalty(g) + m[i, j - g] for g in range(1, j+1)),\n",
    "                                (gapPenalty(g) + m[i - g, j] for g in range(1, i+1)),   \n",
    "                                [(match(s1[i - 1], s2[j - 1]) + m[i - 1, j - 1])]))\n",
    "    return m\n",
    "    \n",
    "def readAlignmentG(s1, s2, m, gapPenalty, match):\n",
    "    i = len(s1)\n",
    "    j = len(s2)\n",
    "    s1a = \"\"\n",
    "    s2a = \"\"\n",
    "    score = 0\n",
    "    while i > 0 or j > 0:\n",
    "        if i > 0 and j > 0 and m[i, j] == m[i - 1, j - 1] + match(s1[i - 1], s2[j - 1]):\n",
    "            i = i - 1\n",
    "            j = j - 1\n",
    "            s1a = s1[i] + s1a\n",
    "            s2a = (s2[j] if s1[i] == s2[j] else s2[j].lower()) + s2a\n",
    "            score += match(s1[i], s2[j])\n",
    "        else:\n",
    "            foundit = False\n",
    "            for g in range(1, i + 1):\n",
    "                if m[i, j] == m[i - g, j] + gapPenalty(g):\n",
    "                    s1a = s1[i - g:i] + s1a\n",
    "                    s2a = ('-' * g) + s2a\n",
    "                    i = i - g\n",
    "                    score += gapPenalty(g)\n",
    "                    foundit = True\n",
    "                    break\n",
    "            if not foundit:\n",
    "                for g in range(1, j + 1):\n",
    "                    if m[i, j] == m[i, j - g] + gapPenalty(g):\n",
    "                        s1a = ('-' * g) + s1a\n",
    "                        s2a = s2[j - g:j] + s2a\n",
    "                        j = j - g\n",
    "                        score += gapPenalty(g)\n",
    "                        foundit = True\n",
    "                        break\n",
    "            assert foundit\n",
    "    return (s1a, s2a, score)\n",
    "\n",
    "def showAlignmentG(s1, s2, gapPenalty, match):\n",
    "    m = alignmentScoreDPG(s1, s2, gapPenalty, match)\n",
    "    r = readAlignmentG(s1, s2, m, gapPenalty, match)\n",
    "    print (r[0] + \"\\n\" + r[1] + \"\\n\" + str(r[2]))\n",
    "    return (m, r)"
   ]
  },
  {
   "cell_type": "code",
   "execution_count": 758,
   "metadata": {},
   "outputs": [],
   "source": [
    "def affineGap(n, gp = -1, gn = -0.2):\n",
    "    return gp + (n - 1) * gn"
   ]
  },
  {
   "cell_type": "code",
   "execution_count": 759,
   "metadata": {},
   "outputs": [
    {
     "name": "stdout",
     "output_type": "stream",
     "text": [
      "AAAGAATTCA\n",
      "AAA----TCA\n",
      "4.4\n"
     ]
    }
   ],
   "source": [
    "# Example\n",
    "s1 = \"AAAGAATTCA\"\n",
    "s2 = \"AAATCA\"\n",
    "r = showAlignmentG(s1, s2, affineGap, simpleMatch)"
   ]
  },
  {
   "cell_type": "markdown",
   "metadata": {},
   "source": [
    "<div class=\"alert alert-success\">\n",
    "\n",
    "**Problem 1 (a).** Run the given algorithm to find a global sequence alignment for the OCA2 genes (a key gene for the production of melanin) for humans and mice with the following gap penalties (still using simpleMatch as the match score function):\n",
    "\n",
    "  a. `linearGap` penalty\n",
    "    \n",
    "  b. `affineGap` penalty, with $gp=-0.2$\n",
    "\n",
    "  c. `affineGap` penalty, with $gp=-0.1$\n",
    "    \n",
    "</div>\n"
   ]
  },
  {
   "cell_type": "code",
   "execution_count": 760,
   "metadata": {},
   "outputs": [],
   "source": [
    "human_oca2, mouse_oca2 = utils.load_oca2_sequences()"
   ]
  },
  {
   "cell_type": "code",
   "execution_count": 761,
   "metadata": {},
   "outputs": [
    {
     "name": "stdout",
     "output_type": "stream",
     "text": [
      "-GTTCT--TACTTCGAAG-GCTGTGCTCCG----CTCACCATCCAGAGCGGAGGTGCGGACC-T-TA-AACTCA-CTCC--TGGA----GA-A--AGATCTGCAAGTGC-GCAGAGAGAAGACTGGCAGTGGAGCATGCATCTGGAGGGCAGAGACGGC-A-GGCGGTACCCCGGCGCGCCGGCG-GTGGAGCTCCTGCAGACGTCCGTGCC-CAGCGGACTCGCT-GAACTTGTGGC--CGGCA-AGC\n",
      "CccTCTGGggCTgC-AAGTGC-cTGCTgaGAAATCTtA-CA-CC--AG-GGttGTGC--tCCATCcACgACTCAGagCCTTTGGATCTGGACACTAGA-CTtC-AcTGCTG--GAGAG-AGA-T--CAG-cGAG--T-CATC---A-GaCAGA-tCaGCAACGG-GG-A--CatGCGC-CtaGaGAacaaAG-aCaT-CAG--G-CtG-GCCTCAGCcG--T-GCTGGAAgTaG-aGCTACacCAGA-C\n",
      "25\n"
     ]
    }
   ],
   "source": [
    "# Your code here\n",
    "a = showAlignment(human_oca2,mouse_oca2,linearGap,simpleMatch)"
   ]
  },
  {
   "cell_type": "code",
   "execution_count": 762,
   "metadata": {},
   "outputs": [],
   "source": [
    "def affineGap2(n, gp = -0.2, gn = -0.2):\n",
    "    return gp + (n - 1) * gn"
   ]
  },
  {
   "cell_type": "code",
   "execution_count": 763,
   "metadata": {},
   "outputs": [
    {
     "name": "stdout",
     "output_type": "stream",
     "text": [
      "---------G-T-----T-C-T--T---A---CTT-CGA--A-GG-CTGTGCTCC--GCTCAC--CATCCAGAG-C---GGAGGTGC-GGAC-CTTAA-AC-TCACT-CCTGGAGA-AAGATC-TGC-AAGTGC--GCAGA-GAGA--AG--ACTGGCAGTGGAGCAT--GCATCT-G-G-AGGGC-AGAGAC--GGCAGGC-GGTACCC-C-GGCGCG-CCGGCGGTGG-AGCTCCTGCAGACGTCCGTGCCCAGCGGACTCGCTGAACTTGTGGCCGGCAAGC\n",
      "CCCTCTGGGGCTGCAAGTGCCTGCTGAGAAATCTTAC-ACCAGGGT-TGTGCTCCAT-C-CACGAC-T-CAGAGCCTTTGGA--T-CTGGACACT--AGACTTCACTG-CTGGAGAG-AGATCA-GCG-AGT-CAT-CAGAC-AGATCAGCAAC-G---G-GGA-CATGCGC--CTAGAGAA---CAA-AGACAT--CAGGCTGG---CCTCA-GC-CGT---GC--TGGAAG----T--AGA-G--C-T----A-C--AC---C---A---------G---A-C\n",
      "112.1999999999998\n"
     ]
    }
   ],
   "source": [
    "b = showAlignmentG(human_oca2,mouse_oca2,affineGap2,simpleMatch)"
   ]
  },
  {
   "cell_type": "code",
   "execution_count": 764,
   "metadata": {},
   "outputs": [],
   "source": [
    "def affineGap3(n, gp = -0.1, gn = -0.2):\n",
    "    return gp + (n - 1) * gn"
   ]
  },
  {
   "cell_type": "code",
   "execution_count": 765,
   "metadata": {},
   "outputs": [
    {
     "name": "stdout",
     "output_type": "stream",
     "text": [
      "------G----T-----T--CT--T-A-----CTT-CGA--A-GG-CTGTGCTCC--GCTCAC--CATCCAGAG-C---GGAGGTGC-GGAC-CTTA-AAC-TCACT-CCTGGAGA-AAGATC-TGC-AAGTGC--GCAGA-GAGA--AG--ACTGGCAGTGGAGCAT--GCATCT-G-G-AGGGC-AGAGAC--GGCAGGC-GGTACC-C-CGGCGCG-CCGGCGGTGG-AGCTCCTGCAGACGTCCGTGCCCAGCGGACTCGCTGAACTTGTGGCCGGCAAGC\n",
      "CCCTCTGGGGCTGCAAGTGCCTGCTGAGAAATCTTAC-ACCAGGGT-TGTGCTCCAT-C-CACGAC-T-CAGAGCCTTTGGA--T-CTGGACAC-TAG-ACTTCACTG-CTGGAGAG-AGATCA-GCG-AGT-CAT-CAGAC-AGATCAGCAAC--G--G-GGA-CATGCGC--CTAGAGAA---CAA-AGACAT--CAGGCTGG--CCTCA--GC-CGT---GC--TGGAAG----T--AGA-G--C-T----A-C--A--C-C---A----------G--A-C\n",
      "126.10000000000025\n"
     ]
    }
   ],
   "source": [
    "c = showAlignmentG(human_oca2,mouse_oca2,affineGap3,simpleMatch)"
   ]
  },
  {
   "cell_type": "markdown",
   "metadata": {},
   "source": [
    "<div class=\"alert alert-success\">\n",
    "\n",
    "**Problem 1 (b).** Use the given function to convert these sequences to their amino-acid sequences, and then re-run alignment for all sequences with the default parameters for `affineGap`.\n",
    "</div>\n"
   ]
  },
  {
   "cell_type": "code",
   "execution_count": 766,
   "metadata": {},
   "outputs": [
    {
     "data": {
      "text/plain": [
       "'KCGV'"
      ]
     },
     "execution_count": 766,
     "metadata": {},
     "output_type": "execute_result"
    }
   ],
   "source": [
    "# Convert sequence of nucleotides to amino acids using codon table lookup\n",
    "# Example\n",
    "utils.convert_to_amino(\"AAATGCGGCGTA\")"
   ]
  },
  {
   "cell_type": "code",
   "execution_count": 767,
   "metadata": {},
   "outputs": [],
   "source": [
    "aminoHuman = utils.convert_to_amino(human_oca2)\n",
    "aminoMouse = utils.convert_to_amino(mouse_oca2)"
   ]
  },
  {
   "cell_type": "code",
   "execution_count": 768,
   "metadata": {},
   "outputs": [
    {
     "name": "stdout",
     "output_type": "stream",
     "text": [
      "VLTSKAVLRS-----------PSRAEVRTLNSL----L-----E------KDLQVR----RE----------KTGSGACIWRAETAGGTPARRRWSSCRRPCPADSLNLWPAS\n",
      "--pSgA--aSAC_EILHQGCAPS-----TtqSLWIWTLDFTAGERSASHQtD-QqRGHAPREQRHQAGLSRA--GS-----RA-----TP--------------D--------\n",
      "-13.799999999999999\n"
     ]
    }
   ],
   "source": [
    "d = showAlignmentG(aminoHuman, aminoMouse, affineGap, simpleMatch)"
   ]
  },
  {
   "cell_type": "markdown",
   "metadata": {},
   "source": [
    "## Part 2: Alignment with Amino-Acids"
   ]
  },
  {
   "cell_type": "markdown",
   "metadata": {},
   "source": [
    "\n",
    "The PAM<em>n</em> matrix (to be covered in [Class 6](https://computingbiology.github.io/class6/)) represents the likelihood of the occurrence of each tranformation during a time period where there are _n_ total mutation events per 100 amino acids."
   ]
  },
  {
   "cell_type": "markdown",
   "metadata": {},
   "source": [
    "<div class=\"alert alert-success\">\n",
    "\n",
    "**Problem 2 (a)** What would a negative value of an entry in a PAM 1 matrix $M$ indicate? Explain in terms of evolution and functionality of the proteins. Note that $M_{ij} = log(\\frac{q_{ij}}{p_ip_j})$ where $q_{ij}$ indicates the frequency of amino acids $i$ and $j$ observed to align in related sequences, and $p_i$ and $p_j$ represent the frequencies of occurrence of $i$ and $j$.\n",
    "</div>"
   ]
  },
  {
   "cell_type": "markdown",
   "metadata": {},
   "source": [
    "A negative value in the matrix M would indicate the the ratio $\\frac{q_{ij}}{p_ip_j}$ is less than 1, because $log$ of a value less than 1 yields a negative number. Thus, a negative value in the matrix M would indicate that the frequency of amino acids i and j observed to align in related sequences is less than the frequencies of occurrence of i and j. "
   ]
  },
  {
   "cell_type": "markdown",
   "metadata": {},
   "source": [
    "<div class=\"alert alert-success\">\n",
    "    \n",
    "**Problem 2 (b).** The BLOSUM<em>x</em> matices are created by clustering sequences with more than <em>x</em>% similarity into one single sequence and comparing sequences with more than <em>x</em>% divergence. Therefore, BLOSUM matrices are based on local alignments. Which of BLOSUM 50 and 60 contain more evoluationary divergence? \n",
    "    \n",
    "</div>"
   ]
  },
  {
   "cell_type": "markdown",
   "metadata": {},
   "source": [
    "BLOSUM50 means roughly 50% pairwise similarity, and BLOSUM60 means roughly 60% pairwise similarity. Thus, BLOSUM50 has roughly 50% evolutionary divergence and BLOSUM60 has roughly 40% evolutionary divergence. Therefore, BLOSUM50 has more evolutionary divergence. "
   ]
  },
  {
   "cell_type": "markdown",
   "metadata": {},
   "source": [
    "<div class=\"alert alert-success\">\n",
    "\n",
    "**Problem 2 (c).** Use the BLOSUM62 matrix as your scoring function to perform global alignment on the amino-acid sequences using `linearGap` (default parameters).\n",
    "</div>"
   ]
  },
  {
   "cell_type": "code",
   "execution_count": 769,
   "metadata": {},
   "outputs": [],
   "source": [
    "blosum_matrix = bl.BLOSUM(62)"
   ]
  },
  {
   "cell_type": "code",
   "execution_count": 770,
   "metadata": {},
   "outputs": [
    {
     "name": "stdout",
     "output_type": "stream",
     "text": [
      "VLTSKAVLRSPSRAEVRTLNSLLEKDLQVRREKTGSGACIWRAETAGGTPARRRWSSCRRPCPADSLNLWPAS\n",
      "----psgaaSac_eilhqgcapsttqslwiwtldftagersashqtdqqrghapreqrhqaglsragsratpd\n",
      "-71\n"
     ]
    }
   ],
   "source": [
    "r = readAlignment(aminoHuman, aminoMouse, blosum_matrix, linearGap, simpleMatch)\n",
    "print (r[0] + \"\\n\" + r[1] + \"\\n\" + str(r[2]))"
   ]
  },
  {
   "cell_type": "code",
   "execution_count": 771,
   "metadata": {},
   "outputs": [
    {
     "name": "stdout",
     "output_type": "stream",
     "text": [
      "human: GTTCTTACTTCGAAGGCTGTGCTCCGCTCACCATCCAGAGCGGAGGTGCGGACCTTAAACTCACTCCTGGAGAAAGATCTGCAAGTGCGCAGAGAGAAGACTGGCAGTGGAGCATGCATCTGGAGGGCAGAGACGGCAGGCGGTACCCCGGCGCGCCGGCGGTGGAGCTCCTGCAGACGTCCGTGCCCAGCGGACTCGCTGAACTTGTGGCCGGCAAGC\n",
      "mouse: CCCTCTGGGGCTGCAAGTGCCTGCTGAGAAATCTTACACCAGGGTTGTGCTCCATCCACGACTCAGAGCCTTTGGATCTGGACACTAGACTTCACTGCTGGAGAGAGATCAGCGAGTCATCAGACAGATCAGCAACGGGGACATGCGCCTAGAGAACAAAGACATCAGGCTGGCCTCAGCCGTGCTGGAAGTAGAGCTACACCAGAC\n"
     ]
    }
   ],
   "source": [
    "print(\"human:\", human_oca2)\n",
    "print(\"mouse:\", mouse_oca2)"
   ]
  },
  {
   "cell_type": "markdown",
   "metadata": {},
   "source": [
    "<div class=\"alert alert-success\">\n",
    "\n",
    "**Problem 2 (d).** How do your results for Problem 2c differ from the earlier ones of Problem 1a (with `linearGap`)? Which one would you say is more biologically plausible?\n",
    "</div>"
   ]
  },
  {
   "cell_type": "markdown",
   "metadata": {},
   "source": [
    "They are very different. 1a has an alignment score of 25, while 2c has an alignment score of -71. However 2c is using the amino acid sequences while 1a is using the genome sequences, so it is plausible that this is contributing to the discrepancy, not just the scoring matrix. Mice and humans are biologically similar creatures as they are both mammals. Thus, a positive alignment score for the genome sequences is biologically plausible. Further, it is also plausible that the amino acid sequences would not have a high or positive alignment since mice and humans have evolved such that point mutations in their nucleotide sequence encode differing amino acid sequences that cause them to have different biological processes as their proteins function differently. Therefore, it is more plausible that the genome sequence alignment from 1a identifies more genetic similarities between mice and humans."
   ]
  },
  {
   "cell_type": "markdown",
   "metadata": {},
   "source": [
    "<div class=\"alert alert-success\">\n",
    "\n",
    "**Problem 2 (e).** We discussed in class that the PAM matrices follow the Markov property and a mismatch at any site depends only on the amino acid at that site and the transition probability. Is this a suitable representation of evolution? Think about if replacements are equaly likely to occur over entire sequences. It may help to consider the difference between PAM and BLOSUM matrices.\n",
    "</div>"
   ]
  },
  {
   "cell_type": "markdown",
   "metadata": {},
   "source": [
    "PAM compares every position independently so we do not think that this is a suitable representation of evolution. BLOSUM considers substitutions and conserved sequences which better fits the representation of evolution. BLOSUM considers local alignments while PAM considers global. PAM is a less suitable representation of evolution because insertion or deletion events will cause replacements over localized sequences and therefore aren't equally likely to occur over an entire sequence as a string of nucleotides is added into one place on the strand. Therefore, if there is a replacement event at one nucleotide, it is more probable that the ensuing positions have replacements as well. "
   ]
  },
  {
   "cell_type": "markdown",
   "metadata": {},
   "source": [
    "## Part 3: Local Sequence Alignment\n"
   ]
  },
  {
   "cell_type": "markdown",
   "metadata": {},
   "source": [
    "<div class=\"alert alert-success\">\n",
    "    \n",
    "<b>Problem 3 (a).</b> Implement local alignment (for both the normal and affine-gap penalties) using the Smith-Waterman algorithm. Feel free to re-use and modify the given Needleman–Wunsch algorithm. \n",
    "</div>"
   ]
  },
  {
   "cell_type": "code",
   "execution_count": 777,
   "metadata": {},
   "outputs": [],
   "source": [
    "def alignmentScoreLocal(s1, s2, gapPenalty, match):\n",
    "    m = np.zeros((len(s1) + 1, len(s2) + 1))\n",
    "    m[0, 0] = 0\n",
    "    for i in range(1, len(s1) + 1):\n",
    "        m[i, 0] = 0\n",
    "    for j in range(1, len(s2) + 1):\n",
    "        m[0, j] = 0\n",
    "    for i in range(1, len(s1) + 1):\n",
    "        for j in range(1, len(s2) + 1):         \n",
    "            m[i, j] = max(chain((gapPenalty(g) + m[i, j - g] for g in range(1, j+1)),\n",
    "                                (gapPenalty(g) + m[i - g, j] for g in range(1, i+1)),   \n",
    "                                [(match(s1[i - 1], s2[j - 1]) + m[i - 1, j - 1])]))\n",
    "            if m[i,j] < 0: \n",
    "                m[i,j] = 0 \n",
    "    return m\n",
    "    \n",
    "def readAlignmentLocal(s1, s2, m, gapPenalty, match):\n",
    "    i, j = np.where(m == np.max(m))\n",
    "    i = i[0]\n",
    "    j = j[0]\n",
    "    s1a = \"\"\n",
    "    s2a = \"\"\n",
    "    score = 0\n",
    "    \n",
    "    while (i > 0 or j > 0) and m[i,j] != 0:\n",
    "        if i > 0 and j > 0 and m[i, j] == m[i - 1, j - 1] + match(s1[i - 1], s2[j - 1]):\n",
    "            i = i - 1\n",
    "            j = j - 1\n",
    "            s1a = s1[i] + s1a\n",
    "            s2a = (s2[j] if s1[i] == s2[j] else s2[j].lower()) + s2a\n",
    "            score += match(s1[i], s2[j])\n",
    "        else:\n",
    "            foundit = False\n",
    "            for g in range(1, i + 1):\n",
    "                if m[i, j] == m[i - g, j] + gapPenalty(g):\n",
    "                    s1a = s1[i - g:i] + s1a\n",
    "                    s2a = ('-' * g) + s2a\n",
    "                    i = i - g\n",
    "                    score += gapPenalty(g)\n",
    "                    foundit = True\n",
    "                    break\n",
    "            if not foundit:\n",
    "                for g in range(1, j + 1):\n",
    "                    if m[i, j] == m[i, j - g] + gapPenalty(g):\n",
    "                        s1a = ('-' * g) + s1a\n",
    "                        s2a = s2[j - g:j] + s2a\n",
    "                        j = j - g\n",
    "                        score += gapPenalty(g)\n",
    "                        foundit = True\n",
    "                        break\n",
    "            assert foundit\n",
    "    return (s1a, s2a, score)\n",
    "\n",
    "def showAlignmentLocal(s1, s2, gapPenalty, match):\n",
    "    m = alignmentScoreLocal(s1, s2, gapPenalty, match)\n",
    "    r = readAlignmentLocal(s1, s2, m, gapPenalty, match)\n",
    "    print (r[0] + \"\\n\" + r[1] + \"\\n\" + str(r[2]))\n",
    "    return (m, r)"
   ]
  },
  {
   "cell_type": "markdown",
   "metadata": {},
   "source": [
    "We've included some assert statements that can help you check the correctness of your algorithm. As with any algorithm, correctness on these test inputs does not guarantee algorithmic correcntess, but can be useful to debug."
   ]
  },
  {
   "cell_type": "code",
   "execution_count": 773,
   "metadata": {},
   "outputs": [
    {
     "name": "stdout",
     "output_type": "stream",
     "text": [
      "GTTGAC\n",
      "GTT-AC\n",
      "4\n"
     ]
    }
   ],
   "source": [
    "# Example expected output\n",
    "# Taken from https://en.wikipedia.org/wiki/Smith–Waterman_algorithm)\n",
    "r = showAlignmentLocal(\"GGTTGACTA\", \"TGTTACGG\", linearGap, simpleMatch)"
   ]
  },
  {
   "cell_type": "code",
   "execution_count": 774,
   "metadata": {},
   "outputs": [
    {
     "name": "stdout",
     "output_type": "stream",
     "text": [
      "GTTGAC\n",
      "GTT-AC\n",
      "4\n",
      "GG\n",
      "GG\n",
      "2\n",
      "G\n",
      "G\n",
      "1\n",
      "TA-CGG\n",
      "TATCGG\n",
      "4\n"
     ]
    }
   ],
   "source": [
    "# First assert\n",
    "r = showAlignmentLocal(\"GGTTGACTA\", \"TGTTACGG\", linearGap, simpleMatch)\n",
    "assert (r[1][2] == 4 and \"GTTGAC\" in r[1] and \"GTT-AC\" in r[1])\n",
    "\n",
    "# Second assert\n",
    "r = showAlignmentLocal(\"GGACTTAAATAGA\", \"TGTTGGTGATCCACGTGG\", linearGap, simpleMatch)\n",
    "assert (r[1][2] == 2 and \"GG\" == r[1][0] and \"GG\" == r[1][1])\n",
    "\n",
    "# Third assert\n",
    "r = showAlignmentLocal(\"TTGA\", \"GGCC\", linearGap, simpleMatch)\n",
    "assert (r[1][2] == 1 and \"G\" == r[1][0] and \"G\" == r[1][1])\n",
    "\n",
    "# Fourth assert\n",
    "r = showAlignmentLocal(\"TACGGGCCCGCTAC\", \"TAGCCCTATCGGTCA\", linearGap, simpleMatch)\n",
    "assert (r[1][2] == 4 and \"TA-CGG\" in r[1] and \"TATCGG\" in r[1])"
   ]
  },
  {
   "cell_type": "markdown",
   "metadata": {},
   "source": [
    "<div class=\"alert alert-success\">\n",
    "    \n",
    "<b>Problem 3 (b).</b> Align the provided hemoglobin genes for:\n",
    "    <ol>\n",
    "        <li>`polar bears` & `black bears`,</li>\n",
    "        <li>`humans` & `chimps`,</li>\n",
    "        <li>`polar bears` & `humans`, and</li>\n",
    "        <li>`black bears` & `chimps`.</li>\n",
    "    </ol>\n",
    "\n",
    "Use `linearGap`.\n",
    "    \n",
    "Take note of the scores you get. What do you notice?\n",
    "</div>"
   ]
  },
  {
   "cell_type": "code",
   "execution_count": 775,
   "metadata": {},
   "outputs": [],
   "source": [
    "polar_bear, black_bear, human, chimp = utils.get_hemoglobin_sequences()"
   ]
  },
  {
   "cell_type": "code",
   "execution_count": 776,
   "metadata": {},
   "outputs": [
    {
     "name": "stdout",
     "output_type": "stream",
     "text": [
      "AAATGCTGGCGCACTCCCCGCCCCGCACATTTCTGGTCCTCACAGACTCAGAAAGAAGCCACCATGGTGCTGTCTCCCGCCGACAAGAGCAACGTCAAGGCCACCTGGGATAAGATCGGCAGCCACGCTGGCGAGTATGGCGGCGAGGCTCTGGAGAGGTGAGGACCCAACCTTCCCCTGTCGGGGTCAGGGCTCCGCCACCCCCCCGGCCCTTGTCCTCCACCGCCCACCTAACCCCGGCTCACCCACGCCTTCCTCCCGCAGGACCTTCGCGTCCTTCCCCACCACCAAGACCTACTTCCCCCACTTCGACCTGAGCCCTGGCTCCGCCCAGGTCAAGGCCCACGGCAAGAAGGTGGCCGACGCCCTGACCACCGCCGCAGGCCACCTGGACGACCTGCCGGGCGCCCTGTCCGCTCTGAGCGACCTGCACGCGCACAAGCTGCGAGTGGACCCGGTCAACTTCAAGGTGAGCACGCGGGCCGGCGCGGAGAGACCTGGGGCAGGAGGGCGCAGCGAACCCTGCTAGCAGGACGGGGAGTCCCTTGGGCTGCGGAAGGTGGAGCGCGGGCGGGCGGCCGCGTCCCCCGACGGCCCCTGACGTCCCCTGTCTCCGCAGTTCCTGAGCCACTGCCTGCTGGTGACCCTGGCCAGCCACCACCCCGCGGAGTTCACCCCTGCCGTCCACGCCTCCCTGGACAAGTTCTTCAGCGCCGTGAGCACCGTGCTCACCTCCAAATACCGTTAAGCTGGAGCCGCGCGACCCTCCCGCTCCCGGCCTGGGGCCTCTTGCGCTCCACGCGCCTGAACTTCCCGATCTTTGAATAAAGTCTGAGTGGGCTGCA\n",
      "AAATGCTGGCGCACTCCCCGCCCCGCACATTTCTGGTCCTCACAGACTCAGAAAGAAGCCACCATGGTGCTGTCTCCCGCCGACAAGAGCAACGTCAAGGCCACCTGGGATAAGATtGGCAGCCA--C--GC-----T--------GG--C----GA-GT---------A----------T---GG-C--GG---CG--A--------G-----G--CT-----------CT------GG-------A------------G-AGGACCTTCGCGTCCTTCCCCACCACCAAGACCTACTTCCCCCACTTCGACCTGAGCCCTGGCTCCGCCCAGGTCAAGGCCCACGGCAAGAAGGTGGCCGACGCCCTGACCACCGCCGCgGGCCACCTGGACGACCTGCCGGGCGCCCTGTCCGCTCTGAGCGACCTGCACGCG--C-A----C-A----A----G-------C----T----------------GC---GAG---T------GGA---C-C--CG------G-T--C---A-----A-------------C------T----------------------T-------------C--A----------------AGTTCCTGAGCCACTGCCTGCTGGTGACCCTGGCCAGCCACCACCCCGCGGAGTTCACCCCTGCCGTCCACGCCTCCCTGGACAAGTTCTTCAGCGCCGTGAGCACCGTGCTCACCTCCAAATACCGTTAAGCTGGAGCCGCGCGACCCTCCCGCTCCCGGCCTGGGGCCTCTTGCGCTCCgCGCaCCTGAACTTCCCGATCTTTGAATAAAGTCTGAGTGGGCTGCA\n",
      "325\n"
     ]
    }
   ],
   "source": [
    "# 1) \n",
    "r = showAlignmentLocal(polar_bear, black_bear, linearGap, simpleMatch)"
   ]
  },
  {
   "cell_type": "code",
   "execution_count": 474,
   "metadata": {},
   "outputs": [
    {
     "ename": "KeyboardInterrupt",
     "evalue": "",
     "output_type": "error",
     "traceback": [
      "\u001b[0;31m---------------------------------------------------------------------------\u001b[0m",
      "\u001b[0;31mKeyboardInterrupt\u001b[0m                         Traceback (most recent call last)",
      "\u001b[0;32m<ipython-input-474-7650ba34eba8>\u001b[0m in \u001b[0;36m<module>\u001b[0;34m\u001b[0m\n\u001b[1;32m      1\u001b[0m \u001b[0;31m# 2)\u001b[0m\u001b[0;34m\u001b[0m\u001b[0;34m\u001b[0m\u001b[0;34m\u001b[0m\u001b[0m\n\u001b[0;32m----> 2\u001b[0;31m \u001b[0mr\u001b[0m \u001b[0;34m=\u001b[0m \u001b[0mshowAlignmentLocal\u001b[0m\u001b[0;34m(\u001b[0m\u001b[0mhuman\u001b[0m\u001b[0;34m,\u001b[0m \u001b[0mchimp\u001b[0m\u001b[0;34m,\u001b[0m \u001b[0mlinearGap\u001b[0m\u001b[0;34m,\u001b[0m \u001b[0msimpleMatch\u001b[0m\u001b[0;34m)\u001b[0m\u001b[0;34m\u001b[0m\u001b[0;34m\u001b[0m\u001b[0m\n\u001b[0m",
      "\u001b[0;32m<ipython-input-469-256b6a2c910d>\u001b[0m in \u001b[0;36mshowAlignmentLocal\u001b[0;34m(s1, s2, gapPenalty, match)\u001b[0m\n\u001b[1;32m     53\u001b[0m \u001b[0;34m\u001b[0m\u001b[0m\n\u001b[1;32m     54\u001b[0m \u001b[0;32mdef\u001b[0m \u001b[0mshowAlignmentLocal\u001b[0m\u001b[0;34m(\u001b[0m\u001b[0ms1\u001b[0m\u001b[0;34m,\u001b[0m \u001b[0ms2\u001b[0m\u001b[0;34m,\u001b[0m \u001b[0mgapPenalty\u001b[0m\u001b[0;34m,\u001b[0m \u001b[0mmatch\u001b[0m\u001b[0;34m)\u001b[0m\u001b[0;34m:\u001b[0m\u001b[0;34m\u001b[0m\u001b[0;34m\u001b[0m\u001b[0m\n\u001b[0;32m---> 55\u001b[0;31m     \u001b[0mm\u001b[0m \u001b[0;34m=\u001b[0m \u001b[0malignmentScoreLocal\u001b[0m\u001b[0;34m(\u001b[0m\u001b[0ms1\u001b[0m\u001b[0;34m,\u001b[0m \u001b[0ms2\u001b[0m\u001b[0;34m,\u001b[0m \u001b[0mgapPenalty\u001b[0m\u001b[0;34m,\u001b[0m \u001b[0mmatch\u001b[0m\u001b[0;34m)\u001b[0m\u001b[0;34m\u001b[0m\u001b[0;34m\u001b[0m\u001b[0m\n\u001b[0m\u001b[1;32m     56\u001b[0m     \u001b[0mr\u001b[0m \u001b[0;34m=\u001b[0m \u001b[0mreadAlignmentLocal\u001b[0m\u001b[0;34m(\u001b[0m\u001b[0ms1\u001b[0m\u001b[0;34m,\u001b[0m \u001b[0ms2\u001b[0m\u001b[0;34m,\u001b[0m \u001b[0mm\u001b[0m\u001b[0;34m,\u001b[0m \u001b[0mgapPenalty\u001b[0m\u001b[0;34m,\u001b[0m \u001b[0mmatch\u001b[0m\u001b[0;34m)\u001b[0m\u001b[0;34m\u001b[0m\u001b[0;34m\u001b[0m\u001b[0m\n\u001b[1;32m     57\u001b[0m     \u001b[0mprint\u001b[0m \u001b[0;34m(\u001b[0m\u001b[0mr\u001b[0m\u001b[0;34m[\u001b[0m\u001b[0;36m0\u001b[0m\u001b[0;34m]\u001b[0m \u001b[0;34m+\u001b[0m \u001b[0;34m\"\\n\"\u001b[0m \u001b[0;34m+\u001b[0m \u001b[0mr\u001b[0m\u001b[0;34m[\u001b[0m\u001b[0;36m1\u001b[0m\u001b[0;34m]\u001b[0m \u001b[0;34m+\u001b[0m \u001b[0;34m\"\\n\"\u001b[0m \u001b[0;34m+\u001b[0m \u001b[0mstr\u001b[0m\u001b[0;34m(\u001b[0m\u001b[0mr\u001b[0m\u001b[0;34m[\u001b[0m\u001b[0;36m2\u001b[0m\u001b[0;34m]\u001b[0m\u001b[0;34m)\u001b[0m\u001b[0;34m)\u001b[0m\u001b[0;34m\u001b[0m\u001b[0;34m\u001b[0m\u001b[0m\n",
      "\u001b[0;32m<ipython-input-469-256b6a2c910d>\u001b[0m in \u001b[0;36malignmentScoreLocal\u001b[0;34m(s1, s2, gapPenalty, match)\u001b[0m\n\u001b[1;32m     10\u001b[0m             m[i, j] = max(chain((gapPenalty(g) + m[i, j - g] for g in range(1, j+1)),\n\u001b[1;32m     11\u001b[0m                                 \u001b[0;34m(\u001b[0m\u001b[0mgapPenalty\u001b[0m\u001b[0;34m(\u001b[0m\u001b[0mg\u001b[0m\u001b[0;34m)\u001b[0m \u001b[0;34m+\u001b[0m \u001b[0mm\u001b[0m\u001b[0;34m[\u001b[0m\u001b[0mi\u001b[0m \u001b[0;34m-\u001b[0m \u001b[0mg\u001b[0m\u001b[0;34m,\u001b[0m \u001b[0mj\u001b[0m\u001b[0;34m]\u001b[0m \u001b[0;32mfor\u001b[0m \u001b[0mg\u001b[0m \u001b[0;32min\u001b[0m \u001b[0mrange\u001b[0m\u001b[0;34m(\u001b[0m\u001b[0;36m1\u001b[0m\u001b[0;34m,\u001b[0m \u001b[0mi\u001b[0m\u001b[0;34m+\u001b[0m\u001b[0;36m1\u001b[0m\u001b[0;34m)\u001b[0m\u001b[0;34m)\u001b[0m\u001b[0;34m,\u001b[0m\u001b[0;34m\u001b[0m\u001b[0;34m\u001b[0m\u001b[0m\n\u001b[0;32m---> 12\u001b[0;31m                                 [(match(s1[i - 1], s2[j - 1]) + m[i - 1, j - 1])]))\n\u001b[0m\u001b[1;32m     13\u001b[0m             \u001b[0;32mif\u001b[0m \u001b[0mm\u001b[0m\u001b[0;34m[\u001b[0m\u001b[0mi\u001b[0m\u001b[0;34m,\u001b[0m\u001b[0mj\u001b[0m\u001b[0;34m]\u001b[0m \u001b[0;34m<\u001b[0m \u001b[0;36m0\u001b[0m\u001b[0;34m:\u001b[0m\u001b[0;34m\u001b[0m\u001b[0;34m\u001b[0m\u001b[0m\n\u001b[1;32m     14\u001b[0m                 \u001b[0mm\u001b[0m\u001b[0;34m[\u001b[0m\u001b[0mi\u001b[0m\u001b[0;34m,\u001b[0m\u001b[0mj\u001b[0m\u001b[0;34m]\u001b[0m \u001b[0;34m=\u001b[0m \u001b[0;36m0\u001b[0m\u001b[0;34m\u001b[0m\u001b[0;34m\u001b[0m\u001b[0m\n",
      "\u001b[0;32m<ipython-input-469-256b6a2c910d>\u001b[0m in \u001b[0;36m<genexpr>\u001b[0;34m(.0)\u001b[0m\n\u001b[1;32m      9\u001b[0m         \u001b[0;32mfor\u001b[0m \u001b[0mj\u001b[0m \u001b[0;32min\u001b[0m \u001b[0mrange\u001b[0m\u001b[0;34m(\u001b[0m\u001b[0;36m1\u001b[0m\u001b[0;34m,\u001b[0m \u001b[0mlen\u001b[0m\u001b[0;34m(\u001b[0m\u001b[0ms2\u001b[0m\u001b[0;34m)\u001b[0m \u001b[0;34m+\u001b[0m \u001b[0;36m1\u001b[0m\u001b[0;34m)\u001b[0m\u001b[0;34m:\u001b[0m\u001b[0;34m\u001b[0m\u001b[0;34m\u001b[0m\u001b[0m\n\u001b[1;32m     10\u001b[0m             m[i, j] = max(chain((gapPenalty(g) + m[i, j - g] for g in range(1, j+1)),\n\u001b[0;32m---> 11\u001b[0;31m                                 \u001b[0;34m(\u001b[0m\u001b[0mgapPenalty\u001b[0m\u001b[0;34m(\u001b[0m\u001b[0mg\u001b[0m\u001b[0;34m)\u001b[0m \u001b[0;34m+\u001b[0m \u001b[0mm\u001b[0m\u001b[0;34m[\u001b[0m\u001b[0mi\u001b[0m \u001b[0;34m-\u001b[0m \u001b[0mg\u001b[0m\u001b[0;34m,\u001b[0m \u001b[0mj\u001b[0m\u001b[0;34m]\u001b[0m \u001b[0;32mfor\u001b[0m \u001b[0mg\u001b[0m \u001b[0;32min\u001b[0m \u001b[0mrange\u001b[0m\u001b[0;34m(\u001b[0m\u001b[0;36m1\u001b[0m\u001b[0;34m,\u001b[0m \u001b[0mi\u001b[0m\u001b[0;34m+\u001b[0m\u001b[0;36m1\u001b[0m\u001b[0;34m)\u001b[0m\u001b[0;34m)\u001b[0m\u001b[0;34m,\u001b[0m\u001b[0;34m\u001b[0m\u001b[0;34m\u001b[0m\u001b[0m\n\u001b[0m\u001b[1;32m     12\u001b[0m                                 [(match(s1[i - 1], s2[j - 1]) + m[i - 1, j - 1])]))\n\u001b[1;32m     13\u001b[0m             \u001b[0;32mif\u001b[0m \u001b[0mm\u001b[0m\u001b[0;34m[\u001b[0m\u001b[0mi\u001b[0m\u001b[0;34m,\u001b[0m\u001b[0mj\u001b[0m\u001b[0;34m]\u001b[0m \u001b[0;34m<\u001b[0m \u001b[0;36m0\u001b[0m\u001b[0;34m:\u001b[0m\u001b[0;34m\u001b[0m\u001b[0;34m\u001b[0m\u001b[0m\n",
      "\u001b[0;31mKeyboardInterrupt\u001b[0m: "
     ]
    }
   ],
   "source": [
    "# 2) \n",
    "r = showAlignmentLocal(human, chimp, linearGap, simpleMatch)"
   ]
  },
  {
   "cell_type": "code",
   "execution_count": null,
   "metadata": {},
   "outputs": [],
   "source": [
    "# 3)\n",
    "r = showAlignmentLocal(polar_bear, human, linearGap, simpleMatch)"
   ]
  },
  {
   "cell_type": "code",
   "execution_count": null,
   "metadata": {},
   "outputs": [],
   "source": [
    "# 4) \n",
    "r = showAlignmentLocal(black_bear, chimp, linearGap, simpleMatch)"
   ]
  },
  {
   "cell_type": "code",
   "execution_count": null,
   "metadata": {},
   "outputs": [],
   "source": [
    "# Extra) \n",
    "r = showAlignmentLocal(black_bear, human, linearGap, simpleMatch)"
   ]
  },
  {
   "cell_type": "markdown",
   "metadata": {},
   "source": [
    "Black bear and polar bear have a strong positive alignment score (325), which makes sense because they are very similar animals. \n",
    "\n",
    "Humans and chimps have an even stronger positive alignment score (801). This further makes sense due to the immense amount of evidence pointing to more recently evolutionarily diverged between humans and chimps.\n",
    "\n",
    "Polar bears and humans have a surprisingly strong positive alignment score (503). This was interesting to us because the alignment score between polar bears and humans is higher than that of polar bears and black bears. \n",
    "\n",
    "Not surprisingly, black bears and chimps have the lowest alignment score of the bunch (209). They have the least obvious genetic and evolutionary connection of the bunch.\n",
    "\n",
    "Because we were interested in the polar bear and human alignment score being higher than the polar bear and black bear alignment score, we added an additional alignment to see the alignment score between black bear and humans. Black bears and humans have the lowest alignment score of the ones we tested. "
   ]
  },
  {
   "cell_type": "markdown",
   "metadata": {},
   "source": [
    "<div class=\"alert alert-success\">\n",
    "\n",
    "<b>Problem 3 (c).</b> Use <a href=\"https://blast.ncbi.nlm.nih.gov/\">BLAST</a> for the above pairs of sequences. Carefully inspect the returned results to see if they are similar to the alignments you obtained above.\n",
    "</div>"
   ]
  },
  {
   "cell_type": "markdown",
   "metadata": {},
   "source": [
    "As a note, we used the global align BLAST which used the Needleman-Wunsch algorithm, which was a similar algorithm to the one implemented for showAlignmentLocal, so we thought this could be a good choice for comparison reasons. "
   ]
  },
  {
   "cell_type": "markdown",
   "metadata": {},
   "source": [
    "Polar vs black bear = 69%, score 619 \n",
    "\n",
    "humans vs chimps = 97%, 1567\n",
    "\n",
    "polar vs humans = 75%, 609\n",
    "\n",
    "black bear vs chimps = 57%, 106\n",
    "\n",
    "For all of the BLAST comparisons, except for the last, the database scores were significantly higher than the scores we got for our alignment algorithm. However, all trend the same for the most part with humans and chimps outputting the highest alignment score and black bears and chimps outputting the lowest. It makes sense that the database uses the Needleman-Wunsch algorithm instead of the Smith-Waterman algorithm due to its more efficient time complexity. This also explains why our algorithm runs much slower than the BLAST database.\n"
   ]
  },
  {
   "cell_type": "markdown",
   "metadata": {},
   "source": [
    "<div class=\"alert alert-success\">\n",
    "\n",
    "<b>Problem 3 (d).</b> Could you run an affine-gap-loss version of your local-alignment algorithm for the given sequences? How much time did BLAST take?\n",
    "Can you think of any optimizations you could make to make the affine-gap-loss version run faster- perhaps utilizing parallel processing or GPUs?\n",
    "</div>"
   ]
  },
  {
   "cell_type": "code",
   "execution_count": null,
   "metadata": {},
   "outputs": [],
   "source": [
    "r = showAlignmentLocal(chimp, human, affineGap, simpleMatch)"
   ]
  },
  {
   "cell_type": "markdown",
   "metadata": {},
   "source": [
    "It is possible, but the runtime is quadratic for the Smith-Waterman algorithm so this is not an efficient way to get the alignment score. BLAST took only a couple seconds to run. Some optimizations we could use include: \n",
    "- multiple GPUs \n",
    "- divide and conquer algorithms \n",
    "- parallel processing \n",
    "- using more Numpy functions that are vectorized for more efficient matrix manipulation"
   ]
  },
  {
   "cell_type": "markdown",
   "metadata": {},
   "source": [
    "## Part 4: Phylogenetic Tree Reconstruction"
   ]
  },
  {
   "cell_type": "markdown",
   "metadata": {},
   "source": [
    "For this part, we'll briefly enter a fictional setup where you want to trace the evolution of Pokémon. The data is in the format of a two lists: one each for the sequences themselves, and names of the Pokémons."
   ]
  },
  {
   "cell_type": "markdown",
   "metadata": {},
   "source": [
    "<div class=\"alert alert-success\">\n",
    "    \n",
    "**Problem 4 (a).** Implement an algorithm for Phylogenetic Tree Reconstrution using the neighbor joining algorithm. Color intermediate nodes different from leaf nodes. Use given names as node labels in your visualization.\n",
    "    \n",
    "For computing the distances matrix, use affine-based gap-loss in your alignment score computations.\n",
    "    \n",
    "</div>"
   ]
  },
  {
   "cell_type": "markdown",
   "metadata": {},
   "source": [
    "You can either label intermediate nodes in the Phylogenetic tree such that they start with \"intermediate_\" and use the given functions below, or use your own nomenclature/way of handling those node, and modify the given helper functions accordingly."
   ]
  },
  {
   "cell_type": "code",
   "execution_count": 778,
   "metadata": {},
   "outputs": [],
   "source": [
    "def construct_alignment(d, names): \n",
    "    count = 1\n",
    "    G = nx.Graph()\n",
    "    row = 0 \n",
    "    col = 0 \n",
    "    while len(d) > 1: \n",
    "        Q = np.zeros((len(d), len(d)))\n",
    "        for i in range(len(d)): \n",
    "            for j in range(len(d)): \n",
    "                if i == j: \n",
    "                    Q[i][j] = 0 \n",
    "                else: \n",
    "                    Q[i][j] = (len(d)-2) * d[i,j] - np.sum(d[i]) - np.sum(d[j])\n",
    "        numRows = len(Q)\n",
    "        minr = 100000000\n",
    "        for i in range((numRows)): \n",
    "            for j in range(i,numRows): \n",
    "                if Q[i,j] < minr: \n",
    "                        minr = Q[i,j]\n",
    "                        minEdge = (i,j)\n",
    "\n",
    "        row = minEdge[0]\n",
    "        col = minEdge[1]\n",
    "        newDist = np.zeros((len(d)-1,len(d)-1))\n",
    "        ii = jj = 1\n",
    "        for i in range(len(d)-1): \n",
    "            if i == row or i == col: \n",
    "                continue \n",
    "            for j in range(len(d)-1): \n",
    "                if j == row or j == col: \n",
    "                    continue \n",
    "                newDist[ii][jj] = d[i][j]\n",
    "                jj += 1\n",
    "            ii += 1\n",
    "            jj = 1 \n",
    "\n",
    "        ii = 1\n",
    "        for i in range(len(d)-1): \n",
    "            if i == row or i == col: \n",
    "                continue \n",
    "            newDist[0][ii] = (d[row][i] + d[col][i] - d[row][col]) / 2\n",
    "            newDist[ii][0] = newDist[0][ii]\n",
    "            ii += 1\n",
    "        \n",
    "        if len(d) == 2: \n",
    "            G.add_edge(names[0],names[1], weight = d[row][col])\n",
    "            break\n",
    "        inter = \"intermediate_\"+str(count)\n",
    "        G.add_node(names[row])\n",
    "        G.add_node(names[col])\n",
    "        G.add_edge(names[row],inter, weight = d[row][col])\n",
    "        G.add_edge(inter,names[col], weight = d[row][col])\n",
    "        if row < col and col < len(names)-1: \n",
    "            names = names[:row] + names[row+1:col] + names[col+1:]\n",
    "        elif row < col and col == len(names)-1: \n",
    "            names = names[:row] + names[row+1:col]\n",
    "        elif row > col and row < len(names) -1: \n",
    "            names = names[:col] + names[col+1:row] + names[row+1:]\n",
    "        else: \n",
    "            names = names[:col] + names[col+1:row]\n",
    "        names = [inter] + names\n",
    "        count += 1\n",
    "        d = newDist\n",
    "        \n",
    "\n",
    "    return G\n",
    "    \n",
    "\n"
   ]
  },
  {
   "cell_type": "markdown",
   "metadata": {},
   "source": [
    "We've provided a helper function to plot a given Phylogenetic tree"
   ]
  },
  {
   "cell_type": "code",
   "execution_count": 699,
   "metadata": {},
   "outputs": [],
   "source": [
    "def draw_graph_nice(G):\n",
    "    \"\"\"\n",
    "        Helper function to plot a given Phylogenetic tree.\n",
    "        Assumes intermediate node names start with 'intermediate_'\n",
    "    \"\"\"\n",
    "    # Plot intermediate nodes smaller\n",
    "    nodes = G.nodes\n",
    "    sizes = [10 if \"intermediate_\" in x else 2000 for x in nodes]\n",
    "    labels = {}    \n",
    "    for node in nodes:\n",
    "        if not node.startswith(\"intermediate_\"):\n",
    "            labels[node] = node\n",
    "    fig, ax = plt.subplots(figsize=(15,15))\n",
    "    nx.draw_planar(G, node_size=sizes, with_labels=True, node_color = \"#ADD8E6\")"
   ]
  },
  {
   "cell_type": "markdown",
   "metadata": {},
   "source": [
    "Here's the visualization for the given example on Wikipedia to get a sense of what the output should look like. We use `networkx` for creating and managing the graphs."
   ]
  },
  {
   "cell_type": "code",
   "execution_count": 700,
   "metadata": {},
   "outputs": [],
   "source": [
    "# Wikipedia example: https://en.wikipedia.org/wiki/Neighbor_joining\n",
    "distances = np.array([\n",
    "    [0, 5, 9, 9, 8],\n",
    "    [5, 0, 10, 10, 9],\n",
    "    [9, 10, 0, 8, 7],\n",
    "    [9, 10, 8, 0, 3],\n",
    "    [8, 9, 7, 3, 0]\n",
    "], dtype=float)\n",
    "\n",
    "seq_names = [\"a\", \"b\", \"c\", \"d\", \"e\"]\n",
    "G = construct_alignment(distances, seq_names)\n"
   ]
  },
  {
   "cell_type": "code",
   "execution_count": 701,
   "metadata": {},
   "outputs": [
    {
     "data": {
      "image/png": "[encoded data removed]",
      "text/plain": [
       "<Figure size 1080x1080 with 1 Axes>"
      ]
     },
     "metadata": {},
     "output_type": "display_data"
    }
   ],
   "source": [
    "draw_graph_nice(G)"
   ]
  },
  {
   "cell_type": "code",
   "execution_count": 727,
   "metadata": {},
   "outputs": [],
   "source": [
    "# Get sequences\n",
    "sequences, seq_names = utils.get_sequences_for_ancestry()"
   ]
  },
  {
   "cell_type": "code",
   "execution_count": 728,
   "metadata": {},
   "outputs": [
    {
     "name": "stdout",
     "output_type": "stream",
     "text": [
      "TGCACTCTCAGATC-C-TCA--TCTCGTTTCCA--TA---GTTC\n",
      "gGCgCT-TC-GtTCGCGTaAAGTCcC----CCACCTACCGG---\n",
      "5.2\n",
      "TGCAC----TCTCAGATCCTCATCTC-GT-TTCCATAG-TTC\n",
      "---ACAATATCTCgGAaC--CAcCaCAGTGcTC--TAGATaC\n",
      "7.6\n",
      "-TGCACTCT--CAGATCCTCATCTCGTTTCCATAGT------TC\n",
      "TTGC---gTGGCAGAaCCT-AaCcCG-----AcAGTAGGCACTa\n",
      "5.6\n",
      "TGCA-CTCTCAGATCCTCAT---CT----CGTTTCCA----TAGTTC\n",
      "T-CAGC-----G-TCCgC-TAGGCTAAGGCGT---gAAGAGTAG-cC\n",
      "4.2\n",
      "TGC-ACTCTCAGATCCTCATC-TCGT----TTCCATA--G--TTC\n",
      "TcCGAC---C-GA--CT-AgCTTCGTACACTgCCA-ACCGCAT--\n",
      "6.199999999999999\n",
      "T---GCACT-CTCAGAT-CCTCA---TCTCGTTTCCATAGTTC\n",
      "TGACGCA-TGCT-A-ATGCCcCAAAGTCTCG---aCA-AG-TC\n",
      "11.799999999999999\n",
      "-TGCAC-TCTCAGATCCTCATCTCGTT---TC--CATAG-TTC--\n",
      "TTG-ACGT---AGATCC----C-CGTTGCATCGACA-AGCaTCAA\n",
      "10.2\n",
      "TGCACTCTCA--GATCCTCATCTCGT-T-TCCATAGTT---C\n",
      "---AgT-TCAGGGATtgTaAT-TCGTCTGT--AgAGTTGGGC\n",
      "8.799999999999999\n",
      "TGCAC--TCTCAGATCCTCATCTCGTT---T--CCATA---G---TT-C\n",
      "---ACAAT----GA-----A--TgGTTGAATTGCCATACACGCGCTTAa\n",
      "3.4\n",
      "TGCACTCTCAGATCCTCA----TCTCGT-TTCCAT------AGTTC\n",
      "TG---T---gGtTCCT-ACCTGTCgCGTCTT---TAAGGAAAG-TC\n",
      "7.199999999999999\n",
      "TGCACTCT------CAGATCC---TCATCTCGTTTCCATAGTT--C-\n",
      "TG---TgTTGTAGCCAaAgCCGAATaATCT-------A-A-TTAACG\n",
      "3.7999999999999994\n",
      "TGC-ACTCTCAGATC---CT-CA--TCTCGTTTCCATA----GTT-C\n",
      "TaCAAC---CA-AgCAAGCTGCAGGT---GT----A-ACGCGGTTGa\n",
      "3.4000000000000004\n",
      "TGC-ACTCTCAG---ATCCTC--ATCTCGTTTCCAT--A----GTT-C\n",
      "aGCAACT---AGGTAAT----AAAT-T-G----CATGCAGGGCGTTCC\n",
      "6.0\n",
      "TGCACTC-TCAG--AT------CCTC-ATCTCGT-TTCCATAGTTC\n",
      "--CACgCAT--GTTATTATGGCCCTCTAT-T-GTATgCCcT-----\n",
      "5.6\n",
      "GGCGCT-TC-GTTCGCGTAAAGTCCC----CCACCTA---CCGG\n",
      "tGCaCTCTCAGaTC-C-TcA--TCtCGTTTCCA--TAGTTC---\n",
      "5.2\n",
      "GGCGC--T-TCGTTCGCGTAAAGTCCCCCAC----C------TACCGG\n",
      "---aCAATATC--TCG-G--AA--CCaCCACAGTGCTCTAGATAC---\n",
      "4.799999999999999\n",
      "GGCGCTT-CGTTCGC-G----TAAAGTCCC--C------CACCTACCGG\n",
      "-----TTGCGT-gGCAGAACCTAA---CCCGACAGTAGGCA-CTA----\n",
      "5.400000000000001\n",
      "--GGCGCTTCGTT---C----GCGT-AA-AGTCCCCCA-CCTACCGG\n",
      "TCaGCG-TcCGcTAGGCTAAGGCGTGAAGAGT-----AGCC------\n",
      "4.999999999999999\n",
      "---G---G-C--GCTTCGTTCGCGTAAAGTCCCCCACCTACCG--G\n",
      "TCCGACCGACTAGCTTCGTaCaC-T---G----CCA---ACCGCAt\n",
      "6.399999999999999\n",
      "-GGCGCTTCGTTCGCGTAAAGTCCCCCA----C-CTAC----CGG\n",
      "TGaCGCaT-----GC-TAA--TgCCCCAAAGTCTCgACAAGTC--\n",
      "6.6\n",
      "GGCGCTTCGTTCG-CGTAAAGTCCCC----CACCTAC------CGG\n",
      "---------TT-GACGTAgA-TCCCCGTTGCAtCgACAAGCATCaa\n",
      "4.800000000000001\n",
      "------GGCGCTTCG---TTCG-C-GTAAAGTCCCCCACCTACCGG--\n",
      "AGTTCAGG-GaTT-GTAATTCGTCTGTAgAGT--------T---GGGC\n",
      "5.6\n",
      "GGCGC--T---TCGTTCGCGTAAA--GTCCCCCACCTAC-CG-G-----\n",
      "---aCAATGAATgGTT---G--AATTG----CCA--TACACGCGCTTAA\n",
      "2.599999999999999\n",
      "---GG--CGCTTCGT-TCGCGT--------AAAGTCCCCCACCTACCGG\n",
      "TGTGGTTC-CTaCcTGTCGCGTCTTTAAGGAAAGTC-------------\n",
      "6.6\n",
      "GGCGCTTCGTTCGCGT----AAAGTCCCCC-----ACCT-----ACCGG\n",
      "tG---T--GTT---GTAGCCAAAG----CCGAATAAtCTAATTAAC--G\n",
      "5.0\n",
      "--------GGC--GCTTCGTTCGC--GTAAAGTCCCCCACCTAC-CGG----\n",
      "TACAACCAaGCAAGCT------GCAGGT---GT-----A---ACGCGGTTGA\n",
      "2.0\n",
      "GGC-GCTTCGT--TCGCGTAAA--GTCCCC---CA---CCTACCGG\n",
      "aGCAaCTagGTAA-----TAAATTG----CATGCAGGGCgTtCC--\n",
      "1.2000000000000002\n",
      "GGCGCTTCGTTCGCGTA--AAGTCCCCC------A---CCTACCGG\n",
      "caCGCaT-GT-----TATTAtGgCCCtCTATTGTATGCCCT-----\n",
      "2.8\n",
      "---ACAATATCTCGGAAC--CACCACAGTGCTC--TAGATAC\n",
      "TGCAC----TCTCaGAtCCTCAtCtC-GT-tTCCATAG-TtC\n",
      "7.6\n",
      "---ACAATATC--TCG-G--AA--CCACCACAGTGCTCTA---GATAC\n",
      "GGCgC--T-TCGTTCGCGTAAAGTCCcCCAC------CTACCGG----\n",
      "4.799999999999999\n",
      "ACAATAT-C-T--CGGAACC--ACC--ACAGT--GCTCTAGATAC\n",
      "----T-TGCGTGGCaGAACCTAACCCGACAGTAGGCaCTA-----\n",
      "9.8\n",
      "ACA---ATATCTCGGAACCACCAC-AGTGCT----C-T--AGA-TA--C\n",
      "tCAGCG---TC-CG---------CTAG-GCTAAGGCGTGAAGAGTAGCC\n",
      "4.6\n",
      "ACAATATCTCGGAACC-AC------C--ACAGTGCTCTA--G-ATAC\n",
      "------TC-CG--ACCGACTAGCTTCGTACAcTGC-CaACCGCAT--\n",
      "6.199999999999999\n",
      "--A--CAATAT-CTCGGAA--CCACCACAGTGCTCTAGATA---C\n",
      "TGACGC---ATGCT---AATGCC-CCAaAGT-CTC--GAcAAGTC\n",
      "9.0\n",
      "---ACAATATCTCGGAACCACCACAG-TGC-TCT---AG-AT-AC\n",
      "TTGAC-gTA-----GAtCC-CC---GTTGCATCgACAAGCATCAa\n",
      "5.0\n",
      "A---CA---ATATCTCGGAA--CCACCACAGTGCTCTAGA--T--AC\n",
      "AGTTCAGGGAT---T-GtAATTC-------GT-CTgTAGAGTTGGgC\n",
      "4.999999999999998\n",
      "ACAAT--ATCTCG---GAA---CCA-CCACAGTGCTCTAGATAC\n",
      "ACAATGAAT---GGTTGAATTGCCATaCAC-GcGCT-TA---A-\n",
      "11.2\n",
      "ACAATATCTCGGAACC-ACCACAGT-GC-TCT---A-GATA--C\n",
      "------TgT-GGttCCTAC--CtGTCGCGTCTTTAAGGAaAGTC\n",
      "5.2\n",
      "ACAATATCTCGGAACCA---CC-ACAGTGCTCTAGAT--AC-\n",
      "----TgTgTtGtAgCCAAAGCCGA-A-TaaTCTA-ATTAACG\n",
      "4.800000000000001\n",
      "-ACAATATCTCGGAACCACCACAG-TGC---TCTA-----GAT-AC\n",
      "TACAA---C-C--AAgCA----AGCTGCAGGTgTAACGCGGtTGA-\n",
      "5.6\n",
      "A-CAATATCTCGG----AACCA--CCA--CAGTGC--TCTAGATAC\n",
      "AGCAA---CTaGGTAATAA--ATTgCATGCAGgGCGTTC------C\n",
      "7.199999999999999\n",
      "-A--CA----A-TATCTCGGAACCACCACAGTGCTCTA--G-ATAC---\n",
      "CACGCATGTTATTAT---GG--CC---------CTCTATTGTATgCCCT\n",
      "5.400000000000001\n",
      "TTGC---GTGGCAGAACCT-AACCCG-----ACAGTAGGCACTA\n",
      "-TGCACTcT--CAGAtCCTCAtCtCGTTTCCAtAGT------Tc\n",
      "5.6\n",
      "-----TTGCGT-GGCAG-AA---CCTAACCCGACAGTA--GGCACTA\n",
      "GGCGCTT-CGTTcGC-GTAAAGTCC---CCC-AC-cTACCGG-----\n",
      "5.4\n",
      "----T-TGCGTGGCAGAACCTAACCCGACAGTAGGCACTA-----\n",
      "ACAATAT-C-T--CgGAACC--ACC--ACAGT--GCtCTAGATAC\n",
      "9.8\n",
      "T-TGCGT-GGC-AGAACCTAACCCG---ACAGTAGGCACTA\n",
      "TCaGCGTCcGCTAGg--CTAAggCGTGAAgAGTA-GC-C--\n",
      "8.2\n",
      "TTGCGTGGCAGAACCTAACCCGAC-A-----GTAGGCACT---------A-\n",
      "T--C----C-GA-------CCGACTAGCTTCGTA--CACTGCCAACCGCAT\n",
      "5.3999999999999995\n",
      "TTG-CGTGGCA-G--AA----CCTAA--CCCGACAGTAGGCACTA\n",
      "-TGAC---GCATGCTAATGCCCCaAAGTCtCGACA--AG----Tc\n",
      "7.799999999999999\n",
      "TTG-CGTGGCAGAACCTAACC-------CGACAGTAGGCA-CTA\n",
      "TTGACGT---AGAtCC---CCGTTGCATCGACA--A-GCATCaA\n",
      "12.799999999999999\n",
      "--TTGC-GTGGCA--GAACCTAACCCGACAGTA------GGCACTA\n",
      "AGTT-CAG-GG-ATTG----TAAttCGtCtGTAGAGTTGGGC----\n",
      "4.4\n",
      "----TTGCG--TGGCAGAA---CC-TAACCCGACAGTAGGCACT--A\n",
      "ACAAT---GAATGGttGAATTGCCATA---C-AC-----GCgCTTAA\n",
      "5.0\n",
      "TTGCGTGG--CAGAACCTAACC---CGACAGT-----AGGCACTA---\n",
      "T---GTGGTT-----CCT-ACCTGTCG-C-GTCTTTAAGGaA--AGTC\n",
      "6.800000000000001\n",
      "TTGCGTG--GCAGAACCTAACCCGACAGTAGGCA-CTA-------\n",
      "T---GTGTTGtAG--CCaAAgCCGA-A-TA---ATCTAATTAACG\n",
      "8.6\n",
      "TTGCGTGGCAGAACCTAA-C---CCGACA---GTAGGCAC-----T-A\n",
      "T--------AcAACC-AAGCAAGCtG-CAGGTGTA---ACGCGGTTGA\n",
      "5.6\n",
      "------TTGCGTGGCAGAACCTAACCCGA---CA-GTAGG-----CACTA\n",
      "AGCAACTaG-GT-----AA--TAA----ATTGCATGcAGGGCGTTC-C--\n",
      "2.0\n",
      "---TTGC--GT------GGCAGAACCTAACCCGAC-A--GTAGGCACTA\n",
      "CAC--GCATGTTATTATGGC----CCT-------CTATTGTAtGCcCT-\n",
      "4.199999999999999\n",
      "T-CAGC-----G-TCCGC-TAGGCTAAGGCGT----GAAGAGTAGCC\n",
      "TGCA-CTCTCAGATCCtCAT---CT----CGTTTCC--AtAGT--tC\n",
      "4.2\n",
      "TCAGCG-TCCGCTAGGCTAAGGCGTGAAGAGT-----AGCC------\n",
      "--gGCGCTtCGtT---C----GCGT-AA-AGTCCCCCA-CCTACCGG\n",
      "4.999999999999999\n",
      "TC---AGCGTC-CG---------CTAG-GCTAAGGCGTGAAGAGTAGCC\n",
      "aCAATA---TCTCGGAACCACCAC-AGTGCT----C-T--AGA-TA--C\n",
      "4.6\n",
      "TCAGCGTCCGCTAGG--CTAAGGCGTGAAGAGTA-GC-C--\n",
      "T-tGCGT-gGC-AGaACCTAAccCG---AcAGTAGGCACTA\n",
      "8.2\n",
      "TCAGCGTCCG-CTAGGCTAAGGCGTGAAGAGTAGCC--------\n",
      "TC--CGaCCGACTA-GCT---tCGT--AcAcT-GCCAACCGCAT\n",
      "8.8\n",
      "TCAGCGTCCGCTAGGCTAAGGC------GT---GA-AGAGTAGCC\n",
      "TgA-----CGC-AtGCTAAtGCCCCAAAGTCTCGACA-AGT---C\n",
      "9.399999999999999\n",
      "-TCAGCGT------CCGCTAGGC-TAAGGCGTGAAGAGTAGC--C--\n",
      "TTgA-CGTAGATCCCCGtT--GCAT----CG---AcA--AGCATCAA\n",
      "4.2\n",
      "---TCAGCGTCCGCTAGGCTAAGGCG--TGAAGAGT-AGCC\n",
      "AGTTCAG-G---GaTtG--TAAttCGTCTGtAGAGTTgGgC\n",
      "7.799999999999999\n",
      "TCAGCGTCCGCTAGGCTAA-GGCGTGAA--G--AGTA---GC-C----\n",
      "aCA---------AtG--AATGG-tTGAATTGCCA-TACACGCGCTTAA\n",
      "2.7999999999999994\n",
      "TCAGCG--TCCGCTA---G--GC-----TAAGGCGTGAAGAGTAGCC\n",
      "T--GtGGTTC--CTACCTGTCGCGTCTTTAAG----GAA-AGT---C\n",
      "9.0\n",
      "TCAGCGTCCGCTAGGCTAAGGCG--TGAA---GAGTAGCC\n",
      "T--GtGT-tG-TAGcCaAAGcCGAAT-AATCTaAtTAaCg\n",
      "5.2\n",
      "T-----C-AGC--GTCCGCTAGG-CTAAGGCG--TGAAGAGTAGCC\n",
      "TACAACCAAGCAAG-CtGC-AGGTgTAAcGCGGTTGA---------\n",
      "7.2\n",
      "TCAGC--GTCCGCTAGGCTAA-----GGCGTGAAGAG---TAGCC\n",
      "--AGCAA-----CTAGG-TAATAAATtGCaTGcAGgGCGTT--CC\n",
      "7.400000000000001\n",
      "TCA-GC--GTCCGCTA----GG--CTAAGGCGTGAAGA--GTA-GCC--\n",
      "-CACGCATGT----TATTATGGCCCT----C-T----ATTGTATGCCCT\n",
      "5.8\n",
      "TCCGAC---C-GA--CT-AGCTTCGTACACTGCCA-ACCG--CAT\n",
      "TgC-ACTCTCAGATCCTCAtC-TCGT----TtCCATA--GTTC--\n",
      "6.199999999999999\n",
      "TCCGACCGACTAGCTTCGTACAC-T---G----CCA---ACCGCAT\n",
      "---G---G-C--GCTTCGTtCgCGTAAAGTCCCCCACCTACCG--g\n",
      "6.399999999999999\n",
      "------TC-CG--ACCGACTAGCTTCGTACACTGC-CAACCGCAT--\n",
      "ACAATATCTCGGAACC-AC------C--ACAgTGCTCtA--G-ATAC\n",
      "6.199999999999999\n",
      "T--C----C-GA-------CCGACTAGCTTCGTA--CACTGCCAACCGCAT\n",
      "TTGCGTGGCAGAACCTAACCCGAC-A-----GTAGGCACT---------A-\n",
      "5.3999999999999995\n",
      "TC--CGACCGACTA-GCT---TCGT--ACACT-GCCAACCGCAT\n",
      "TCAGCGtCCG-CTAGGCTAAGgCGTGAAgAgTAGCC--------\n",
      "8.8\n",
      "TCCGAC-CGACTAGCTTCGTACACTG--CCAA---C-CG-CA--T-\n",
      "T--GACGC-A-T-GC----TA-A-TGCCCCAAAGTCTCGACAAGTC\n",
      "8.399999999999999\n",
      "TCCGACCGACTAG----CTTCGTACACTGC-----CAACCGCAT---\n",
      "T-tGA-CG--TAGATCCC--CGT----TGCATCGACAA--GCATCAA\n",
      "9.0\n",
      "---TCCGACCGACT---AGCTTCGTACACTGCCA-A-----CCGCAT\n",
      "AGTTC--AggGAtTGTAA--TTCGT---CTG-tAGAGTTGG--GC--\n",
      "2.2000000000000006\n",
      "TCCGAC--CGACTAGCTTCGTACACTGCCA---AC-CGC--AT\n",
      "----ACAAtGAaT-GgTT-G-A-AtTGCCATACACGCGCTTAa\n",
      "6.6\n",
      "TCCGACCGACTAGCTTCGTACACT---GC--C---AACCGCA---T-\n",
      "T------G--T-GgTTCcTAC-CTGTCGCGTCTTTAA--GgAAAGTC\n",
      "4.2\n",
      "TCCGACCGACTAGCTTCGTACACTGCCAA--CCG------C--AT-----\n",
      "T------G--T-G-TT-GTA----GCCAAAGCCGAATAATCTAATTAACG\n",
      "5.999999999999999\n",
      "TCCGACCGA-CTAGCTTCGTACA-CTGCCAACCGC-----AT\n",
      "TaCaACCaAGCaAGCT--G--CAGgTG-tAA-CGCGGTTGA-\n",
      "6.8\n",
      "TCCGACCGACTAGCTTCGTA--------CACTGCCAACCGCAT---\n",
      "----AgCaACTAG----GTAATAAATTGCA-TGC--AggGCgTTCC\n",
      "4.800000000000001\n",
      "TC-CGACC--G--ACTA--GC------TTCGTACACTGCCAACCGCAT\n",
      "-CACG--CATGTTAtTATGGCCCTCTATT-GTA---TGCC-----C-T\n",
      "6.0\n"
     ]
    },
    {
     "name": "stdout",
     "output_type": "stream",
     "text": [
      "TG-ACGCATGCT-A-ATGCCCCAAAGTCTCG---ACA-AG-TC\n",
      "TGCAC---T-CTCAGAT-CCtCA---TCTCGTTTcCATAGTTC\n",
      "11.799999999999999\n",
      "TGACGCAT-----GC-TAA--TGCCCCAAAGTCTCGACAAGTC--\n",
      "-GgCGCtTCGTTCGCGTAAAGTcCCCCA----C-CtAC----CGG\n",
      "6.6\n",
      "TGAC---GCATGCT---AATGCC-CCAAAGT-CTC--GACAAGTC\n",
      "--ACAAT--AT-CTCGGAA--CCACCAcAGTGCTCTAGAtA---C\n",
      "9.0\n",
      "-TGAC---GCATGCTAATGCCCCAAAGTCTCGACA--AG----TC\n",
      "TTG-CGTGGCA-G--AA----CCtAA--CcCGACAGTAGGCACTa\n",
      "7.799999999999999\n",
      "TGA-----CGC-ATGCTAATGCCCCAAAGTCTCGACA-AGT---C\n",
      "TcAGCGTCCGCTAgGCTAAgGC------GT---GA-AGAGTAGCC\n",
      "9.399999999999999\n",
      "T--GA-CG-C-ATGC----TA-A-TGCCCCAAAGTCTCGACAAGTC\n",
      "TCCGACCGACTA-GCTTCGTACACTG--CCAA---C-CG-CA--T-\n",
      "8.399999999999999\n",
      "-TGACGCATGCTA-ATGCCCCAAAGT--C-TCGACAAG--TC--\n",
      "TTGACG-----TAGAT-CCCC---GTTGCATCGACAAGCATCAA\n",
      "15.199999999999996\n",
      "TGACG--CA-----TGCTAATGCCCCAAAGTCTCG-ACAAGT----C\n",
      "--A-GTTCAGGGATTG-TAATtC------GTCT-GTA-gAGTTGGGC\n",
      "6.2\n",
      "----TGACGCATGCT--AA-TGCCCCA-A-AGTCTCGAC--AAGTC\n",
      "ACAATGA---ATGgTTGAATTG--CCATACA--CgCG-CTTAA---\n",
      "6.800000000000001\n",
      "TGACGCATG----CTAATGCC---C-CAAAGTCT----CGACAAGTC\n",
      "TG-----TGGTTCCTA---CCTGTCGC---GTCTTTAAgGA-AAGTC\n",
      "9.8\n",
      "TGACGCATG--CTAATGCCCCAAAGTCTCGA-----C-AAGT--C-\n",
      "TG-----TGTTgTA--G--CCAAAG-C-CGAATAATCTAAtTAACG\n",
      "7.6\n",
      "TGAC------GCA---TGC-----TAATGCCCCAAAGTCTCGACAAGTC\n",
      "T-ACAACCAAGCAAGCTGCAGGTGTAAcGC-----gGT-T-GA------\n",
      "5.0\n",
      "TGACGCA--T-GCTAATGCCCCAAAGTCTCGACA---AG-----T-C\n",
      "--A-GCAACTAGgTAAT-----AAA-T-T-G-CATGCAGGGCGTTCC\n",
      "6.6\n",
      "TGACGCATGCTA--ATGCCCCAAAGTCTCGACAA--GT----C--\n",
      "-cACGCATGtTATTATGgCCC----TCT-----ATTGTATGCCCT\n",
      "9.399999999999999\n",
      "TTG-ACGT---AGATCC----C-CGTTGCATCGACA-AGCATCAA\n",
      "-TGCAC-TCTCAGATCCTCATCTCGTT---TC--CATAG-tTC--\n",
      "10.2\n",
      "---------TT-GACGTAGA-TCCCCGTTGCATCGACAAGCATCAA\n",
      "GGCGCTTCGTTCG-CGTAaAGTCCCC----CAcCtAC------Cgg\n",
      "4.800000000000001\n",
      "TTGAC-GTA-----GATCC-CC---GTTGCATCGACAAGCATCAA\n",
      "---ACAaTATCTCGGAaCCACCACAG-TGC-TCt---AG-AT-Ac\n",
      "5.0\n",
      "TTGACGT---AGATCC---CCGTTGCATCGACA--A-GCATCAA\n",
      "TTG-CGTGGCAGAaCCTAACC-------CGACAGTAGGCA-CtA\n",
      "12.799999999999999\n",
      "T-TGACGTAGATCCCCGTT--GCAT----CG---ACA--AGCATCAA\n",
      "TCaG-CGT------CCGcTAGGC-TAAGGCGTGAAgAGTAGC--C--\n",
      "4.2\n",
      "T-TGA-CG--TAGATCCC--CGT----TGCATCGACAA--GCATCAA\n",
      "TCcGACCGACTAG----CTTCGTACACTGC-----CAACCGCAT---\n",
      "9.0\n",
      "TTGACG-----TAGAT-CCCC---GTTGCATCGACAAGCATCAA\n",
      "-TGACGCATGCTA-ATGCCCCAAAGT--C-TCGACAAG--TC--\n",
      "15.199999999999996\n",
      "----------TTG--A-----C-GTAGATCCCCGTTGCATCGACAAGCATCAA\n",
      "AGTTCAGGGATTGTAATTCGTCTGTAGA-----GTTG----G----GC-----\n",
      "3.4000000000000004\n",
      "----T---TGACGTAGATCCCCGTTG-CATCGACAAGC-ATCAA\n",
      "ACAATGAATG--GTtGA-----aTTGCCAT--ACAcGCGcTtAA\n",
      "6.800000000000001\n",
      "T-TGACGTAGATCC--CC-GTTGCATC------GACAAGCATCAA\n",
      "TGTG--GT---TCCTACCTGTcGCgTCTTTAAGGA-AAG--TC--\n",
      "9.799999999999997\n",
      "T-TGACGTAGATCC----CCG--TTGCATCGACAAGCATCAA--\n",
      "TGTGttGTAG--CCAAAGCCGAAT--aATCtA-----ATtAACG\n",
      "6.8\n",
      "TTGACGTAGATCCC---C--GTTGCA--TCG--ACAAGC-ATCAA\n",
      "T--AC--A-A--CCAAGCAAGcTGCAGGT-GTAAC--GCGgTtgA\n",
      "4.2\n",
      "TTG--AC---GTAGAT---CCCCGTTGCATCGACA-AGCAT--CAA\n",
      "-aGCAACTAGGTA-ATAAA-----TTGCAT-G-CAGgGCgTTCC--\n",
      "4.8\n",
      "TTGACG-----TA-GAT--CCC-C-GTTGCATCGACAAGCATCAA\n",
      "--cACGCATGTTATtATGGCCCTCTaTTGtAT-G-C---CcT---\n",
      "3.0\n",
      "---AGT-TCAGGGATTGTAAT-TCGTCTGT--AGAGTTGGGC\n",
      "TGCAcTCTCA--GATccTcATCTCGT-T-TCCAtAGTT---C\n",
      "8.799999999999999\n",
      "AGTTCAGG-GATT-GTAATTCGTCTGTAGAGT--------T---GGGC\n",
      "------GGCGcTTCG---TTCG-C-GTAaAGTCCCCCACCTACCGG--\n",
      "5.6\n",
      "AGTTCAGGGAT---T-GTAATTC-------GT-CTGTAGAGTTGGGC\n",
      "A---CA---ATATCTCGgAA--CCACCACAGTGCTcTAGA--T--aC\n",
      "4.999999999999998\n",
      "AGTT-CAG-GG-ATTG----TAATTCGTCTGTAGAGTTGGGC----\n",
      "--TTGC-GTGGCA--GAACCTAAccCGaCaGTA------GGCACTA\n",
      "4.4\n",
      "AGTTCAG-G---GATTG--TAATTCGTCTGTAGAGTTGGGC\n",
      "---TCAGCGTCCGcTaGGCTAAggCG--TGaAGAGT-aGcC\n",
      "7.799999999999999\n",
      "AGTTC--AGGGATTGTAA--TTCGT---CTG-TA---G-AGTTGGGC\n",
      "---TCCGAccGAcT---AGCTTCGTACACTGCcAACCGCA-T-----\n",
      "2.2000000000000006\n",
      "--A-GTTCAGGGATTG-TAATTC------GTCT-GTA-GAGTTGGGC\n",
      "TGACG--CA-----TGCTAATgCCCCAAAGTCTCG-ACaAGT----C\n",
      "6.2\n",
      "AGTTCAGGGATTGTAATTCGTCTGTAGA-----GTTG----G----GC-----\n",
      "----------TTG--A-----C-GTAGATCCCCGTTGCATCGACAAGCATCAA\n",
      "3.4000000000000004\n",
      "AGTTCA--G---GGATTGTAATT----------CGTCTGTAGAGTTGGGC\n",
      "A---CAATGAATGG-TTG-AATTGCCATACACGCG-CT-TA-A-------\n",
      "6.0\n",
      "AGTTCAGGGATT-GTA-AT-T--CGTCTGT-AG---AGTTGGGC\n",
      "tGT---GG--TTCcTACcTGTCGCGTCTtTAAGGAAAGT----C\n",
      "7.199999999999999\n",
      "AGTTCAGGGATTGT-----AATTCG-----TCTGTAGAGTT---GGGC\n",
      "tGT---G---TTGTAGCCAAAgcCGAATAATC--TA-A-TTAACG---\n",
      "3.5999999999999996\n",
      "------------AG-TTCAGGGATTGTAATTCGTCTGTAGAGTTGGGC\n",
      "TACAACCAAGCAAGCTgCAGG---TGTAA--CG-C----G-GTT--Ga\n",
      "6.3999999999999995\n",
      "AGTTCAGGGATT--GTAAT---TCGTC-TGTAGAGTTGG-G---C\n",
      "AG--CA---AcTAGGTAATAAATtG-CATGcAG----GGCGTTCC\n",
      "7.8\n",
      "AGTTCAGGGATTGTAATT-----CGTC---TGTAGAGTTGGGC---\n",
      "----CAcGcA-TGTtATTATGGCCcTCTATTGTA----T--GCCCT\n",
      "6.0\n",
      "---A----CAATGA-----A--TGGTTGAATTGCCATACACGCGCTTAA\n",
      "TGCACTCTCA--GATCCTCATCTcGTT---T--CCATA---G---TT-c\n",
      "3.399999999999999\n",
      "---ACAATGAATGGTT---G--AATTG----CCA--TACACGCGCTTAA\n",
      "GGCgC--T---TcGTTCGCGTAAA--GTCCCCCACCTAC-CG-G-----\n",
      "2.599999999999999\n",
      "ACAATGAAT---GGTTGAATTGCCA-TACACGCGCT-TA---A-\n",
      "ACAAT--ATCTCG---GAA---CCACcACA-GtGCTCTAGATAC\n",
      "11.2\n",
      "ACAAT---GAATGGTTGAATTGCCATA---C-AC-----GCGCTTAA\n",
      "----TTGCG--TGGcaGAA---CC-TAACCCGACAGTAGGCaCT--A\n",
      "5.0\n",
      "ACA---------ATG--AATGG-TTGAATTGCCA-TACACGCGCTTAA\n",
      "tCAGCGTCCGCTAgGCTAA-GGCgTGAA--G--AGTA---GC-C----\n",
      "2.7999999999999994\n",
      "----ACAATGAAT-GGTT-G-A-ATTGCCATACACGCGCTTAA\n",
      "TCCGAC--cGAcTAGcTTCGTACAcTGCCA---AC-CGC--At\n",
      "6.6\n",
      "ACAATGA---ATGGTTGAATTG--CCATACA--CGCG-CTTAA---\n",
      "----TGACGCATGcT--AA-TGCCCCA-A-AGTCtCGAC--AAGTC\n",
      "6.800000000000001\n",
      "ACAATGAATG--GTTGA-----ATTGCCAT--ACACGCGCTTAA\n",
      "----T---TGACGTaGATCCCCgTTG-CATCGACAaGC-aTcAA\n",
      "6.800000000000001\n",
      "A---CAATGAATGG-TTG-AATTGCCATACACGCG-CT-TA-A-------\n",
      "AGTTCA--G---GGATTGTAATT----------CGTCTGTAGAGTTGGGC\n",
      "6.0\n",
      "ACAATGAATGGTTGAATTGCCATAC---ACGCG-CTT------AA---\n",
      "----TG--TGGTT------CC-TACCTGtCGCGTCTTTAAGGAAAGTC\n",
      "8.4\n",
      "ACAATGAATGGTTG------AATTGCC--ATA--C--ACGCGCTTAA--\n",
      "----TG--T-GTTGTAGCCAAA--GCCGAATAATCTAA-----TTAACG\n",
      "7.4\n",
      "-ACAATGAATGGTTG-AATTGC--CA----TACACGCGCTTAA\n",
      "TACAAccAA-----GCAA--GCTGCAGGTGTA-ACGCGgTTgA\n",
      "10.2\n",
      "A-CAA-TGAATGGT--TGAATTGCCATACA-CGCGCTTAA\n",
      "AGCAACT-A--GGTAATaAATTG-CATgCAGgGCG-TTcc\n",
      "11.600000000000001\n",
      "ACA---ATG--A--ATGG---T-TGAATTGCCATACACGCGCTTAA\n",
      "-CACGCATGTTATTATGGCCCTCT--ATTG---T--AtGCcCT---\n",
      "7.6\n",
      "TG---T---GGTTCCT-ACCTGTCGCGTCTT---TAAGGAAAG-TC\n",
      "TGCACTCTCaGaTCCTCA----TCtCGT-TTCCAT------AGTTC\n",
      "7.199999999999999\n",
      "TGTGGTTC-CTACCTGTCGCGTCTTTAAGGAAAGTC-------------\n",
      "---GG--CGCTtCgT-TCGCGT--------AAAGTCCCCCACCTACCGG\n",
      "6.6\n",
      "------TGT-GGTTCCTAC--CTGTCGCGTCTTTAAGGAAAGTC\n",
      "ACAATATcTCGGaaCC-ACCACaGT-GC-TCT---A-GAtA--C\n",
      "5.2\n",
      "T---GTGGTT-----CCT-ACCTGTCG-C-GTCTTTAAGGAA--AGTC\n",
      "TTGCGTGG--CAGAACCTAACC---CGACAGT-----AGGcACTA---\n",
      "6.800000000000001\n",
      "T--GTGGTTC--CTACCTGTCGCGTCTTTAAG----GAA-AGT---C\n",
      "TCAGcG--TCCGCTA---G--GC-----TAAGGCGTGAAGAGTAGCC\n",
      "9.0\n",
      "T------G--T-GGTTCCTAC-CTGTCGCGTCTTTAA--GGAAAGTC\n",
      "TCCGACCGACTAGcTTCgTACACT---GC--C---AACCGcA---T-\n",
      "4.2\n",
      "TG-----TGGTTCCTA---CCTGTCGC---GTCTTTAAGGA-AAGTC\n",
      "TGACGCATG----CTAATGCC---C-CAAAGTCT----cGACAAGTC\n",
      "9.8\n",
      "TGTG--GT---TCCTACCTGTCGCGTCTTTAAGGA-AAG--TC--\n",
      "T-TGACGTAGATCC--CC-GTtGCaTC------GACAAGCATCAA\n",
      "9.799999999999997\n",
      "TGT---GG--TTCCTACCTGTCGCGTCTTTAAGGAAAGT----C\n",
      "aGTTCAGGGATT-gTA-aT-T--CGTCTgT-AG---AGTTGGGC\n",
      "7.199999999999999\n",
      "----TG--TGGTT------CC-TACCTGTCGCGTCTTTAAGGAAAGTC\n",
      "ACAATGAATGGTTGAATTGCCATAC---aCGCG-CTT------AA---\n",
      "8.4\n",
      "TGTGGTTCCTA-CC--TGTCGCG-----TCT--TTAAGGAAAGTC\n",
      "TGT-GTT-gTAGCCAAaG-C-CGAATAATCTAATTAAcG------\n",
      "7.8\n",
      "TGTGGTTCCTACC--------------TGT--CGCGTCTTTAAGGAAAGTC\n",
      "------TaCaACCAAGCAAGCTGCAGGTGTAACGCGg--TT---GA-----\n",
      "1.8000000000000003\n",
      "TG----T-GGT------TCCTACCTGTC---GCG-TCTTTAAGGAAAGTC\n",
      "aGCAACTAGGTAATAAAT--TgCaTG-CAGGGCGTTC------------C\n",
      "1.6\n",
      "------TGTGGT-TCCTACCTGTCGCGTCT-TTAAGGAAAGTC--\n",
      "CACGCATGT--TAT--TA--TGgC-CcTCTATT---GtAtGcCCT\n",
      "3.8\n",
      "TG---TGTTGTAGCCAAAGCCGAATAATCT-------A-A-TTAACG\n",
      "TGCACTcT------CAgAtCC---TcATCTCGTTTCCATAGTT--C-\n",
      "3.7999999999999994\n",
      "TG---T--GTT---GTAGCCAAAG----CCGAATAATCTAATTAAC--G\n",
      "gGCGCTTCGTTCGCGT----AAAGTCCCCC-----AcCT-----ACCGG\n",
      "5.0\n",
      "----TGTGTTGTAGCCAAAGCCGA-A-TAATCTA-ATTAACG\n",
      "ACAATaTcTcGgAaCCA---CC-ACAGTgcTCTAGAT--AC-\n",
      "4.800000000000001\n",
      "T---GTGTTGTAG--CCAAAGCCGA-A-TA---ATCTAATTAACG\n",
      "TTGCGTG--GcAGAACCtAAcCCGACAGTAGGCA-CTA-------\n",
      "8.6\n",
      "T--GTGT-TG-TAGCCAAAGCCGAAT-AATCTAATTAACG\n",
      "TCAGcGTCcGCTAGgCtAAGgCG--TGAA---gAgTAgCc\n",
      "5.2\n",
      "T------G--T-G-TT-GTA----GCCAAAGCCGAATAATCTAATTAACG\n",
      "TCCGACCGACTAGCTTCGTACACTGCCAA--CCG------C--AT-----\n",
      "5.999999999999999\n",
      "TG-----TGTTGTA--G--CCAAAG-C-CGAATAATCTAATTAACG\n",
      "TGACGCATG--cTAATGCCCCAAAGTCTCGA-----C-AAgT--C-\n",
      "7.6\n",
      "TGTGTTGTAG--CCAAAGCCG----A---ATAATCTAATTAACG\n",
      "T-TGacGTAGATCC----CCGTTGCATCGAcAAgC--ATcAA--\n",
      "6.8\n",
      "TGT---G---TTGTAGCCAAAGCCGAATAATC--TA-A-TTAACG---\n",
      "aGTTCAGGGATTGT-----AAttCG-----TCTGTAGAGTT---GGGC\n",
      "3.5999999999999996\n",
      "----TG--T-GTTG--TAGCCA-A-A-GCCGAATAATCTAATTAACG\n",
      "ACAATGAATGGTTGAATtGCCATACACG-CG------C---TTAA--\n",
      "7.4\n",
      "TGT-GTT-GTAGCCAAAG-C-CGAATAATCTAATTAACG------\n",
      "TGTGGTTCcTA-CC--tGTCGCG-----TCT--TTAAgGAAAGTC\n",
      "7.8\n",
      "TGTGTTGTAGCCA---AAGCCGAATAATCT--A-AT-TAACG-------\n",
      "-------TA--CAACCAAGC-----AAgCTGCAGgTGTAACGCGGTTGA\n",
      "5.0\n",
      "TGTGTTGTAGCCAA--AGCCG-AATAATCTAATT--A---A---CG----\n",
      "--------AG-CAACTAG--GTAATA----AATTGCATGCAGGGCGTTCC\n",
      "6.0\n",
      "------TGTGT-TGTA--GCCAAAGCCGAATAATCTAAT-TAA---CG\n",
      "CACGCATGT-TAT-TATGGC-----CC------TCTAtTGTAtGCCCt\n",
      "3.5999999999999996\n",
      "TACAAC---CA-AGCAAGCTGCAGGT---GT----A-ACGCGGTTGA\n",
      "TgC-ACTCTCAGAtC---CT-CA--TCTCGTTTCCATA----GTT-c\n",
      "3.4000000000000004\n",
      "TACAACCAAGCAAGCT------GCAGGT---GT-----A---ACGCGGTTGA\n",
      "--------gGC--GCTTCGTTCGC--GTAAAGTCCCCCACCTAC-CGG----\n",
      "2.0\n",
      "TACAA---C-C--AAGCA----AGCTGCAGGTGTAACGCGGTTGA-\n",
      "-ACAATATCTCGGAAcCACCACAG-TGC---TcTA-----GaT-AC\n",
      "5.6\n",
      "T--------ACAACC-AAGCAAGCTG-CAGGTGTA---ACGCGGTTGA\n",
      "TTGCGTGGCAgAACCTAA-C---CcGACA---GTAGGCAC-----T-A\n",
      "5.6\n",
      "TACAAC--CAAGCAAGCTGCAGGTGTAACGCGGTTGA---------\n",
      "T-CAgCGTC---C--GCT--AGG-cTAAgGCG--TGAAGAGTAGCC\n",
      "7.2\n",
      "TACAACCAAGCAAGCT--G--CAGGTG-TAA-CGCGGTTGA-\n",
      "TcCgACCgA-CtAGCTTCGTACA-cTGCcAACCGC-----AT\n",
      "6.8\n"
     ]
    },
    {
     "name": "stdout",
     "output_type": "stream",
     "text": [
      "T-ACAACCAAGCAAGCTGCAGGTGTAACGC-----GGT-T-GA------\n",
      "TGAC------GCA---TGC-----TAAtGCCCCAAaGTCTCGACAAGTC\n",
      "5.0\n",
      "T--AC--A-A--CCAAGCAAGCTGCAGGT-GTAAC--GCGGTTGA\n",
      "TTGACGTAGATCCC---C--GtTGCA--TCG--ACAAGC-aTcaA\n",
      "4.2\n",
      "TACAACCAAGCAAGCTGCAGG---TGTAA--CG-C----G-GTT--GA\n",
      "------------AG-TtCAGGGATTGTAATTCGTCTGTAGAGTTGGGc\n",
      "6.3999999999999995\n",
      "TACAACCAA-----GCAA--GCTGCAGGTGTA-ACGCGGTTGA\n",
      "-ACAAtgAATGGTTG-AATTGC--CA----TACACGCGcTTaA\n",
      "10.2\n",
      "------TACAACCAAGCAAGCTGCAGGTGTAACGCGG--TT---GA-----\n",
      "TGTGGTTcCtACC--------------TGT--CGCGtCTTTAAGGAAAGTC\n",
      "1.8000000000000003\n",
      "-------TA--CAACCAAGC-----AAGCTGCAGGTGTAACGCGGTTGA\n",
      "TGTGTTGTAGCCA---AAGCCGAATAAtCT--A-aT-TAACG-------\n",
      "5.0\n",
      "TA-CAACCAAGCAA------GC-TGCAGGTGTAACGCGGTTGA\n",
      "-AGCAACtAgGtAATAAATTGCATGCAGG------GC-GTTcc\n",
      "9.0\n",
      "TACAACCAAGCAAGCTGCA----GG---TGTAACGCGGTTG-A------\n",
      "--CA--C--GCAtGtT--ATTATGGCCCTcTA------TTGTATGCCCT\n",
      "2.1999999999999993\n",
      "AGCAACT---AGGTAAT----AAAT-T-G----CATGCAGGGCGTTCC\n",
      "tGC-ACTCTCAG---ATCCTC--ATCTCGTTTCCAT--A----GTT-C\n",
      "6.0\n",
      "AGCAACTAGGT-----AATAAATTG----CATGCAGGGCGTTCC--\n",
      "gGC-gCTtcGTTCGCG--TAAA--GTCCCC---CA---CcTaCCGG\n",
      "1.2000000000000002\n",
      "AGCAA---CTAGGTAATAA--ATTGCATGCAGGGCGTTC------C\n",
      "A-CAATATCTcGG----AACCA--cCA--CAGtGC--TCTAGATAC\n",
      "7.199999999999999\n",
      "------AGCAACTAGGTAA--TAA----ATTGCATGCAGGGCGTTC-C--\n",
      "TTGCGTgGCA-----G-AACCTAACCCGA---CA-GtAGG-----CACTA\n",
      "2.0\n",
      "--AGC-----AACTAGG-TAATAAATTGCATGCAGGGCGTT--CC\n",
      "TCAGCGTCCG--CTAGGCTAA-----gGCgTGaAGaG---TAGCC\n",
      "7.400000000000001\n",
      "----AGCAACTAG----GTAATAAATTGCA-TGC--AGGGCGTTCC\n",
      "TCCGAcCgACTAGCTTCGTA--------CACTGCCAAccGCaT---\n",
      "4.800000000000001\n",
      "--A-GCAACTAGGTAAT-----AAA-T-T-G-CATGCAGGGCGTTCC\n",
      "TGACGCA--T-GcTAATGCCCCAAAGTCTCGACA---AG-----T-C\n",
      "6.6\n",
      "-AGCAAC-TAGGTAAT-----AAATTGCAT-G-CAGGGCGTTCC--\n",
      "TtG--ACGTAG---ATCCCCG---TTGCATCGACA-aGCaT--CAA\n",
      "4.8\n",
      "AG--CA---ACTAGGTAATAAATTG-CATGCAG----GGCGTTCC\n",
      "AGTTCAGGGAtT--GTAAT---TcGTC-TGtAGAGTTGG-G---C\n",
      "7.8\n",
      "AGCAACT-A--GGTAATAAATTG-CATGCA-GGGCGTTCC\n",
      "A-CAA-TGAATGGT--TgAATTGCCATaCACGcGC-TTaa\n",
      "11.600000000000001\n",
      "AGCAACTAGGTAATAAAT--TGCATG-CAGGGCGT------------TCC\n",
      "tG----T-GGT------TCCTaCcTGTC---GCGTCTTTAAGGAAAGT-C\n",
      "1.6\n",
      "--------AG-CAACTAG--GTAATA----AATTGCATGCAGGGCGTTCC\n",
      "TGTGTTGTAGCCAA--AGCCG-AATAATCTAATT--A---A---CG----\n",
      "6.0\n",
      "-AGCAACTAGGTAATAAATTGCATGCAGG------GC-GTTCC\n",
      "TA-CAACcAaGcAA------GC-TGCAGGTGTAACGCGGTTga\n",
      "9.0\n",
      "-A-GCAACTAGGTAATAA---------ATTGCATGCAGGGCGTTCC-\n",
      "CACGCA--T--GTtATtATGGCCCTCTATTGtATGC--------CCT\n",
      "6.6\n",
      "--CA--CGCATGTTATTATGGCCCTCTAT-T-GTATGCCCT-----\n",
      "TGCACTCtCA-G--AT------CCTC-ATCTCGT-TtCCaTAGTTC\n",
      "5.6\n",
      "CACGCAT-GT-----TATTATGGCCCTCTATTGTATGCCCT-----\n",
      "ggCGCtTCGTTCGCGTA--AaGtCCCcC------A---CCTACCGG\n",
      "2.8\n",
      "CACGCATGTTATTAT---GG--CC---------CTCTATTGTATGCCCT\n",
      "-A--CA----A-TATCTCGGAACCACCACAGTGCTCTA--G-ATaC---\n",
      "5.400000000000001\n",
      "--CACGCATGTTATTATGGC----CCT-------CTATTGTATGCCCT-\n",
      "TT---GC--GT------GGCAGAACCTAACCCGAC-A--GTAgGCaCTA\n",
      "4.2\n",
      "-CACGCATGT----TATTATGGCCCT----C-T----ATTGTATGCCCT\n",
      "TCA-GC--GTCCGCTA----GG--CTAAGGCGTGAAGA--GTA-GCC--\n",
      "5.8\n",
      "--C-ACGCATGTTATTATGGCCCTCTATT-GTA---TGCC-----C-T\n",
      "TCCGAC-C--G--AcTA--GC------TTCGTACACTGCCAACCGCAT\n",
      "6.0\n",
      "-CACGCATGTTATTATGGCCC----TCT-----ATTGTATGCCCT\n",
      "TgACGCATGcTA--ATGcCCCAAAGTCTCGACAA--GT----C--\n",
      "9.399999999999999\n",
      "--CACGCATGTTATTATGGCCCTCTATTGTAT-G-C---CCT---\n",
      "TTgACG-----TA-gAT--CCC-C-gTTGcATCGACAAGCaTCAA\n",
      "3.0\n",
      "----CACGCA-TGTTATTATGGCCCTCTATTGTA----T--GCCCT\n",
      "AGTTCAgGgATTGTaATT-----CgTC---TGTAGAGTTGGGC---\n",
      "6.0\n",
      "-CACGCATGTTATTATGGCCCTCT--ATTG---T--ATGCCCT---\n",
      "ACA---ATG--A--ATGG---T-TGAATTGCCATACAcGCgCTTAA\n",
      "7.6\n",
      "CACGCATGT--TAT--TA--TGGC-CCTCTATT---GTATGCCCT\n",
      "------TGTGGT-TCCTACCTGtCGCgTCT-TTAAGGaAaGtC--\n",
      "3.8\n",
      "CACGCATGT-TAT-TATGGC-----CC------TCTATTGTATGCCCT\n",
      "------TGTGT-TGTA--GCCAAAGCCGAATAATCTAaT-TAa---Cg\n",
      "3.5999999999999996\n",
      "--CA--C--GCATGTT--ATTATGGCCCTCTA------TTGTATGCCCT\n",
      "TACAACCAAGCAaGcTGCA----GG---TgTAACGCGGTTG-A------\n",
      "2.1999999999999993\n",
      "CACGCA--T--GTTATTATGGCCCTCTATTGTATGC--------CCT\n",
      "-A-GCAACTAGGTaATaA---------ATTGcATGCAGGGCGTTCC-\n",
      "6.6\n",
      "[]\n",
      "['Ho-Oh', 'Toucannon', 'Stantler', 'Drapion', 'Vaporeon', 'Grumpig', 'Beheeyem', 'Snorlax', 'Doduo', 'Shaymin', 'Grovyle', 'Sawsbuck', 'Dunsparce', 'Slurpuff', 'Raichu']\n"
     ]
    }
   ],
   "source": [
    "scores = []\n",
    "names = []\n",
    "d = np.zeros((len(sequences), len(sequences)))\n",
    "for i in range(len(sequences)): \n",
    "    for j in range(len(sequences)): \n",
    "        if i == j: \n",
    "            continue\n",
    "        d[i][j] = showAlignmentG(sequences[i], sequences[j], affineGap, simpleMatch)[1][2]\n",
    "#     scores.append(showAlignmentG(sequences[i], sequences[i+1], affineGap, simpleMatch)[1][2])\n",
    "    names.append(seq_names[i])\n",
    "# scores.append(showAlignmentG(sequences[0], sequences[-1], affineGap, simpleMatch)[1][2])\n",
    "# names.append(seq_names[len(seq_names)-1])\n",
    "print(scores)\n",
    "print(names)"
   ]
  },
  {
   "cell_type": "code",
   "execution_count": 729,
   "metadata": {},
   "outputs": [],
   "source": [
    "G = construct_alignment(d, names)"
   ]
  },
  {
   "cell_type": "code",
   "execution_count": 730,
   "metadata": {},
   "outputs": [
    {
     "data": {
      "image/png": "[encoded data removed]",
      "text/plain": [
       "<Figure size 1080x1080 with 1 Axes>"
      ]
     },
     "metadata": {},
     "output_type": "display_data"
    }
   ],
   "source": [
    "draw_graph_nice(G)"
   ]
  },
  {
   "cell_type": "markdown",
   "metadata": {},
   "source": [
    "<div class=\"alert alert-success\">\n",
    "    \n",
    "**Problem 4 (b).** Given $n$ sequences each of roughly the same length $m$, what would the time complexity be for constructing such a phylogenetic tree? Can you think of any algorithms or heuristics that might make the process faster? \n",
    "    \n",
    "</div>"
   ]
  },
  {
   "cell_type": "markdown",
   "metadata": {},
   "source": [
    "The neighbor joining algorithm is $\\theta(n^{2})$ because you go through the while loop n times (the number of nodes aka the n sequences) and each time through you do a summation of n things. The alignment score function has roughly $\\theta(m^{2})$ as it has a for loop within a while loop. Therefore, the time complexity for constructing a phylogenetic tree is roughly $\\theta(n^{2} + m^{2})$.\n",
    "\n",
    "Vectorization would likely make this process faster. Vectorizing the summation would speed it up. "
   ]
  },
  {
   "cell_type": "markdown",
   "metadata": {},
   "source": [
    "<div class=\"alert alert-success\">\n",
    "\n",
    "**Problem 4 (c).** Assume a direct correlation between the distance between any two nodes and the number of years (in millions) between their evolution. Assuming `Grumpig` was the first Pokémon to evolve, when did life first come to be in the fictional scenario?\n",
    "</div>"
   ]
  },
  {
   "cell_type": "markdown",
   "metadata": {},
   "source": [
    "<div class=\"alert alert-warning\">\n",
    "\n",
    "For this part, feel free to use any of `networkx`'s in-built functions (or any graph-specific library you may have chosen for Problem 4).\n",
    "</div>"
   ]
  },
  {
   "cell_type": "code",
   "execution_count": 731,
   "metadata": {},
   "outputs": [],
   "source": [
    "# Your code here\n",
    "path = list(nx.dfs_edges(G, source='Grumpig'))\n",
    "s = 0 \n",
    "for e in G.edges(data=True):\n",
    "    if (e[0],e[1]) in path: \n",
    "        s += e[2]['weight']\n",
    "s=round(s,2)"
   ]
  },
  {
   "cell_type": "code",
   "execution_count": 732,
   "metadata": {},
   "outputs": [
    {
     "data": {
      "text/plain": [
       "8.89"
      ]
     },
     "execution_count": 732,
     "metadata": {},
     "output_type": "execute_result"
    }
   ],
   "source": [
    "s"
   ]
  },
  {
   "cell_type": "code",
   "execution_count": 733,
   "metadata": {},
   "outputs": [
    {
     "name": "stdout",
     "output_type": "stream",
     "text": [
      "Life evolved 8.89 million years ago in the Pokémon world\n"
     ]
    }
   ],
   "source": [
    "how_long_ago = str(s) # Replace with your answer\n",
    "print(f\"Life evolved {how_long_ago} million years ago in the Pokémon world\")"
   ]
  },
  {
   "cell_type": "markdown",
   "metadata": {},
   "source": [
    "One way to test the robustness of such a tree reconstruction algorithm is to consider collection of nodes independently and see if the recontructed sub-trees match the bigger tree.\n",
    "\n",
    "<div class=\"alert alert-success\">\n",
    "    \n",
    "**Problem 4 (d).** Find an  edge between intermediate nodes with the largest weight in the phylogenetic tree and remove that edge- this will produce two disjoint cluster of nodes. Re-run your tree reconstruction algorithm on these two sets of Pokémons. Do your reconstructed tree match the larger phylogenetic tree?\n",
    "</div>"
   ]
  },
  {
   "cell_type": "markdown",
   "metadata": {},
   "source": [
    "<div class=\"alert alert-warning\">\n",
    "\n",
    "For this part, feel free to use any of `networkx`'s in-built functions (or any graph-specific library you may have chosen for Problem 4).\n",
    "</div>"
   ]
  },
  {
   "cell_type": "code",
   "execution_count": 734,
   "metadata": {},
   "outputs": [],
   "source": [
    "G.edges(data=True)\n",
    "interEdges = []\n",
    "for i in G.edges(data=True): \n",
    "    if 'intermediate' in i[0] and 'intermediate' in i[1]:  \n",
    "        interEdges.append(i)"
   ]
  },
  {
   "cell_type": "code",
   "execution_count": 735,
   "metadata": {},
   "outputs": [
    {
     "data": {
      "text/plain": [
       "[('intermediate_1', 'intermediate_5', {'weight': 3.6000000000000005}),\n",
       " ('intermediate_2', 'intermediate_3', {'weight': 2.4000000000000004}),\n",
       " ('intermediate_3', 'intermediate_12', {'weight': 1.6625000000000008}),\n",
       " ('intermediate_4', 'intermediate_8', {'weight': 3.299999999999999}),\n",
       " ('intermediate_5', 'intermediate_7', {'weight': 2.7499999999999996}),\n",
       " ('intermediate_6', 'intermediate_10', {'weight': 2.175}),\n",
       " ('intermediate_7', 'intermediate_10', {'weight': 2.175}),\n",
       " ('intermediate_8', 'intermediate_9', {'weight': 2.500000000000001}),\n",
       " ('intermediate_9', 'intermediate_11', {'weight': 0.9187499999999988}),\n",
       " ('intermediate_10', 'intermediate_11', {'weight': 0.9187499999999988}),\n",
       " ('intermediate_11', 'intermediate_12', {'weight': 1.6625000000000008}),\n",
       " ('intermediate_12', 'intermediate_13', {'weight': 1.3859374999999994})]"
      ]
     },
     "execution_count": 735,
     "metadata": {},
     "output_type": "execute_result"
    }
   ],
   "source": [
    "interEdges"
   ]
  },
  {
   "cell_type": "code",
   "execution_count": 736,
   "metadata": {},
   "outputs": [],
   "source": [
    "maxEdge = interEdges[0]\n",
    "G.remove_edge(maxEdge[0],maxEdge[1])"
   ]
  },
  {
   "cell_type": "code",
   "execution_count": 737,
   "metadata": {},
   "outputs": [
    {
     "data": {
      "image/png": "[encoded data removed]",
      "text/plain": [
       "<Figure size 1080x1080 with 1 Axes>"
      ]
     },
     "metadata": {},
     "output_type": "display_data"
    }
   ],
   "source": [
    "draw_graph_nice(G)"
   ]
  },
  {
   "cell_type": "markdown",
   "metadata": {},
   "source": [
    "The edge we remove separated only 2 nodes from the larger tree. We weren't really sure how to go about rerunning the construct alignment with these two groups since one group is just 2 nodes, Slurpuff and Grovyle. So, we just ran it on the bigger portion of the tree (excluding the Slurpuff and Grovyle nodes) to see what that tree looked like in comparison to the original. "
   ]
  },
  {
   "cell_type": "code",
   "execution_count": 746,
   "metadata": {},
   "outputs": [],
   "source": [
    "i1 = names.index('Slurpuff')\n",
    "i2 = names.index('Grovyle')\n",
    "newD = np.zeros((len(d)-2,len(d)-2))\n",
    "ii = jj = 0\n",
    "for i in range(len(d)): \n",
    "    if i == i1 or i == i2: \n",
    "        continue\n",
    "    for j in range(len(d)): \n",
    "        if j == i1 or j == i2: \n",
    "            continue\n",
    "        newD[ii][jj] = d[i][j] \n",
    "        jj += 1\n",
    "    ii += 1\n",
    "    jj = 0\n"
   ]
  },
  {
   "cell_type": "code",
   "execution_count": 747,
   "metadata": {},
   "outputs": [
    {
     "data": {
      "text/plain": [
       "array([[ 0. ,  5.2,  7.6,  5.6,  4.2,  6.2, 11.8, 10.2,  8.8,  3.4,  3.8,\n",
       "         3.4,  5.6],\n",
       "       [ 5.2,  0. ,  4.8,  5.4,  5. ,  6.4,  6.6,  4.8,  5.6,  2.6,  5. ,\n",
       "         2. ,  2.8],\n",
       "       [ 7.6,  4.8,  0. ,  9.8,  4.6,  6.2,  9. ,  5. ,  5. , 11.2,  4.8,\n",
       "         5.6,  5.4],\n",
       "       [ 5.6,  5.4,  9.8,  0. ,  8.2,  5.4,  7.8, 12.8,  4.4,  5. ,  8.6,\n",
       "         5.6,  4.2],\n",
       "       [ 4.2,  5. ,  4.6,  8.2,  0. ,  8.8,  9.4,  4.2,  7.8,  2.8,  5.2,\n",
       "         7.2,  5.8],\n",
       "       [ 6.2,  6.4,  6.2,  5.4,  8.8,  0. ,  8.4,  9. ,  2.2,  6.6,  6. ,\n",
       "         6.8,  6. ],\n",
       "       [11.8,  6.6,  9. ,  7.8,  9.4,  8.4,  0. , 15.2,  6.2,  6.8,  7.6,\n",
       "         5. ,  9.4],\n",
       "       [10.2,  4.8,  5. , 12.8,  4.2,  9. , 15.2,  0. ,  3.4,  6.8,  6.8,\n",
       "         4.2,  3. ],\n",
       "       [ 8.8,  5.6,  5. ,  4.4,  7.8,  2.2,  6.2,  3.4,  0. ,  6. ,  3.6,\n",
       "         6.4,  6. ],\n",
       "       [ 3.4,  2.6, 11.2,  5. ,  2.8,  6.6,  6.8,  6.8,  6. ,  0. ,  7.4,\n",
       "        10.2,  7.6],\n",
       "       [ 3.8,  5. ,  4.8,  8.6,  5.2,  6. ,  7.6,  6.8,  3.6,  7.4,  0. ,\n",
       "         5. ,  3.6],\n",
       "       [ 3.4,  2. ,  5.6,  5.6,  7.2,  6.8,  5. ,  4.2,  6.4, 10.2,  5. ,\n",
       "         0. ,  2.2],\n",
       "       [ 5.6,  2.8,  5.4,  4.2,  5.8,  6. ,  9.4,  3. ,  6. ,  7.6,  3.6,\n",
       "         2.2,  0. ]])"
      ]
     },
     "execution_count": 747,
     "metadata": {},
     "output_type": "execute_result"
    }
   ],
   "source": [
    "newD"
   ]
  },
  {
   "cell_type": "code",
   "execution_count": 748,
   "metadata": {},
   "outputs": [],
   "source": [
    "names.remove('Slurpuff')\n",
    "names.remove('Grovyle')\n"
   ]
  },
  {
   "cell_type": "code",
   "execution_count": 749,
   "metadata": {},
   "outputs": [],
   "source": [
    "G = construct_alignment(newD, names)"
   ]
  },
  {
   "cell_type": "code",
   "execution_count": 750,
   "metadata": {},
   "outputs": [
    {
     "data": {
      "image/png": "[encoded data removed]",
      "text/plain": [
       "<Figure size 1080x1080 with 1 Axes>"
      ]
     },
     "metadata": {},
     "output_type": "display_data"
    }
   ],
   "source": [
    "draw_graph_nice(G)"
   ]
  },
  {
   "cell_type": "markdown",
   "metadata": {},
   "source": [
    "This doesn't look much that much different from the original shape of the tree. "
   ]
  },
  {
   "cell_type": "markdown",
   "metadata": {},
   "source": [
    "<div class=\"alert alert-success\">\n",
    "\n",
    "**Problem 4 (d).** Can you inspect the matrix of distances between the Pokémons and predict whether the reconstructed trees would always be unique? Why/why not?\n",
    "</div>"
   ]
  },
  {
   "cell_type": "code",
   "execution_count": 751,
   "metadata": {},
   "outputs": [
    {
     "data": {
      "text/plain": [
       "array([[ 0. ,  5.2,  7.6,  5.6,  4.2,  6.2, 11.8, 10.2,  8.8,  3.4,  7.2,\n",
       "         3.8,  3.4,  6. ,  5.6],\n",
       "       [ 5.2,  0. ,  4.8,  5.4,  5. ,  6.4,  6.6,  4.8,  5.6,  2.6,  6.6,\n",
       "         5. ,  2. ,  1.2,  2.8],\n",
       "       [ 7.6,  4.8,  0. ,  9.8,  4.6,  6.2,  9. ,  5. ,  5. , 11.2,  5.2,\n",
       "         4.8,  5.6,  7.2,  5.4],\n",
       "       [ 5.6,  5.4,  9.8,  0. ,  8.2,  5.4,  7.8, 12.8,  4.4,  5. ,  6.8,\n",
       "         8.6,  5.6,  2. ,  4.2],\n",
       "       [ 4.2,  5. ,  4.6,  8.2,  0. ,  8.8,  9.4,  4.2,  7.8,  2.8,  9. ,\n",
       "         5.2,  7.2,  7.4,  5.8],\n",
       "       [ 6.2,  6.4,  6.2,  5.4,  8.8,  0. ,  8.4,  9. ,  2.2,  6.6,  4.2,\n",
       "         6. ,  6.8,  4.8,  6. ],\n",
       "       [11.8,  6.6,  9. ,  7.8,  9.4,  8.4,  0. , 15.2,  6.2,  6.8,  9.8,\n",
       "         7.6,  5. ,  6.6,  9.4],\n",
       "       [10.2,  4.8,  5. , 12.8,  4.2,  9. , 15.2,  0. ,  3.4,  6.8,  9.8,\n",
       "         6.8,  4.2,  4.8,  3. ],\n",
       "       [ 8.8,  5.6,  5. ,  4.4,  7.8,  2.2,  6.2,  3.4,  0. ,  6. ,  7.2,\n",
       "         3.6,  6.4,  7.8,  6. ],\n",
       "       [ 3.4,  2.6, 11.2,  5. ,  2.8,  6.6,  6.8,  6.8,  6. ,  0. ,  8.4,\n",
       "         7.4, 10.2, 11.6,  7.6],\n",
       "       [ 7.2,  6.6,  5.2,  6.8,  9. ,  4.2,  9.8,  9.8,  7.2,  8.4,  0. ,\n",
       "         7.8,  1.8,  1.6,  3.8],\n",
       "       [ 3.8,  5. ,  4.8,  8.6,  5.2,  6. ,  7.6,  6.8,  3.6,  7.4,  7.8,\n",
       "         0. ,  5. ,  6. ,  3.6],\n",
       "       [ 3.4,  2. ,  5.6,  5.6,  7.2,  6.8,  5. ,  4.2,  6.4, 10.2,  1.8,\n",
       "         5. ,  0. ,  9. ,  2.2],\n",
       "       [ 6. ,  1.2,  7.2,  2. ,  7.4,  4.8,  6.6,  4.8,  7.8, 11.6,  1.6,\n",
       "         6. ,  9. ,  0. ,  6.6],\n",
       "       [ 5.6,  2.8,  5.4,  4.2,  5.8,  6. ,  9.4,  3. ,  6. ,  7.6,  3.8,\n",
       "         3.6,  2.2,  6.6,  0. ]])"
      ]
     },
     "execution_count": 751,
     "metadata": {},
     "output_type": "execute_result"
    }
   ],
   "source": [
    "d"
   ]
  },
  {
   "cell_type": "markdown",
   "metadata": {},
   "source": [
    "After inspecting the matrix of distances between pokemon we observed that for many pokemons there are repeated distances along a row. This would mean that when selecting the minimum distance there will be situations where more than 1 pokemon could be selected to bridge off the tree and the tree would still be valid according to our algorithm. Therefore, there is the possibility that reconstructed trees could have some variations in the branching of select few nodes which could cause the trees to look slightly different. In our case, we are keeping track of the minimum index in such a way that we only get the index of the first occurence of the minimum value. This causes for our trees to look the same every time we run the algorithm, but theoretically we could construct them in different ways."
   ]
  },
  {
   "cell_type": "markdown",
   "metadata": {},
   "source": []
  },
  {
   "cell_type": "markdown",
   "metadata": {},
   "source": [
    "## Part 5: Tracing Evolution"
   ]
  },
  {
   "cell_type": "markdown",
   "metadata": {},
   "source": [
    "<div class=\"alert alert-warning\">\n",
    "    This problem is a \"Challenge Problem\". This means it is a problem of unknown difficulty that might be quite challenging (unlike the earlier problems, we don't have a reference solution for this one, or a clear idea how hard it might be). We do hope all students will at least attempt this and that more ambitious students will work hard to solve it and learn interesting things by the attempt (whether or not it is successful), but not get frustrated if you can't get to the desired answer.  As a \"Challenge Problem\" it means that you shouldn't be worried if you are not able to solve this, though, and you can get full expected credit on this assignment without answering it.\n",
    "</div>\n",
    "\n",
    "\n",
    "Now that we can construct Phylogenetic trees using sequence alignment, we can attempt to construct these trees for different organisms and trace their evolution through time. You're given reads processed from a FASTA file for Hemoglobin Beta Proteins, which can be used to then trace evolution based on how similar their sequences are across organisms from different kingdoms. Each record has the following relevant information in Tuple format:\n",
    "\n",
    "`((uniprot identifier, full name, shortened name, group), (sequence))`\n",
    "\n",
    "As you may notice, running our nearest-neighbor reconstruction algorithm on this data will give a Phylogenetic tree that does not fully correspond to what we know about the evolution of these species."
   ]
  },
  {
   "cell_type": "markdown",
   "metadata": {},
   "source": [
    "<div class=\"alert alert-success\">\n",
    "    \n",
    "**Problem 8 (Challenge).** Construct a Phylogenetic Tree using the given sequences. Implement and use any tree-reconstruction method of your choice, and see if it works better than the nearest-neighbor method with a linear-gap penalty.\n",
    "    \n",
    "For visualization, use the short name to display in the evolution tree.\n",
    "    \n",
    "</div>\n",
    "    \n",
    "This is an open-ended question, and is inspired by https://www.mimuw.edu.pl/~lukaskoz/teaching/sad2/lab6/readme.html. You are free to use any approach to deal with the issue. Make sure you provide your code, along with any assumptions you may have."
   ]
  },
  {
   "cell_type": "code",
   "execution_count": 33,
   "metadata": {},
   "outputs": [
    {
     "name": "stdout",
     "output_type": "stream",
     "text": [
      "(('P01941.1', 'Tupaia glis', 'Tgli', 'Mammalia'), 'VLSPGDKSNIKAAWGKIGGQAPQYGAEALERMFLSFPTTKTYFPHFDMSHGSAQIQAHGKKVADALSTAVGHLDDLPTALSALSDLHAHKLRVDPANFKLLSHCILVTLACHHPGDFTPEIHASLDKFLANVSTVLTSKYR')\n"
     ]
    }
   ],
   "source": [
    "sequences = utils.get_sequences_for_tree()\n",
    "print(sequences[0])"
   ]
  },
  {
   "cell_type": "code",
   "execution_count": null,
   "metadata": {},
   "outputs": [],
   "source": [
    "# Your code here"
   ]
  },
  {
   "cell_type": "markdown",
   "metadata": {},
   "source": [
    "_Write a description of your algorithm, and things you learned from working on this here._"
   ]
  },
  {
   "cell_type": "markdown",
   "metadata": {},
   "source": [
    "_Type your answer here_"
   ]
  },
  {
   "cell_type": "markdown",
   "metadata": {},
   "source": [
    "<div class=\"alert alert-success\">\n",
    "    \n",
    "Is this (using Hemoglobin proteins) the best way to trace and visualize evolution? Why do you think it is useful, and what could the possible downsides of this be?\n",
    "    \n",
    "</div>"
   ]
  },
  {
   "cell_type": "markdown",
   "metadata": {},
   "source": [
    "_Type your answer here_"
   ]
  },
  {
   "cell_type": "markdown",
   "metadata": {},
   "source": [
    "   <div class=\"alert alert-block alert-danger\">\n",
    "    <center>\n",
    "      \n",
    "**End of Project 2!**\n",
    "        \n",
    "Remember to follow the submission directions above to submit your assignment.\n",
    "    \n",
    " </center>\n",
    " </div>"
   ]
  }
 ],
 "metadata": {
  "kernelspec": {
   "display_name": "Python 3",
   "language": "python",
   "name": "python3"
  },
  "language_info": {
   "codemirror_mode": {
    "name": "ipython",
    "version": 3
   },
   "file_extension": ".py",
   "mimetype": "text/x-python",
   "name": "python",
   "nbconvert_exporter": "python",
   "pygments_lexer": "ipython3",
   "version": "3.7.3"
  }
 },
 "nbformat": 4,
 "nbformat_minor": 5
}
